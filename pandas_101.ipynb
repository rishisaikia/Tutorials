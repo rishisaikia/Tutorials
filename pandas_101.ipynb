{
 "metadata": {
  "language_info": {
   "codemirror_mode": {
    "name": "ipython",
    "version": 3
   },
   "file_extension": ".py",
   "mimetype": "text/x-python",
   "name": "python",
   "nbconvert_exporter": "python",
   "pygments_lexer": "ipython3",
   "version": "3.8.4-final"
  },
  "orig_nbformat": 2,
  "kernelspec": {
   "name": "python_defaultSpec_1600141374542",
   "display_name": "Python 3.8.4 64-bit ('venv': venv)"
  }
 },
 "nbformat": 4,
 "nbformat_minor": 2,
 "cells": [
  {
   "source": [
    "import pandas as pd"
   ],
   "cell_type": "code",
   "metadata": {},
   "execution_count": 9,
   "outputs": []
  },
  {
   "cell_type": "code",
   "execution_count": 10,
   "metadata": {},
   "outputs": [],
   "source": [
    "# A dataframe is very similar to a dictionary.\n",
    "# Below is an example of dictionary as a dataframe\n",
    "# Here, the keys are columns, and the different entries (or values for each person) are rows"
   ]
  },
  {
   "cell_type": "code",
   "execution_count": 189,
   "metadata": {},
   "outputs": [],
   "source": [
    "people = {\n",
    "     \"first\": ['Clark', 'Diana', 'Bruce'],\n",
    "     \"last\": [\"Kent\", \"Prince\", \"Wayne\"],\n",
    "     \"email\": ['clark@dailyplanet.com', 'diana@amazon.com', 'bruce@wayne.com']\n",
    " }"
   ]
  },
  {
   "cell_type": "code",
   "execution_count": 190,
   "metadata": {},
   "outputs": [],
   "source": [
    "# In a dictionary, you can use a key to retrieve the series (or column of data) corresponding to the specific key"
   ]
  },
  {
   "cell_type": "code",
   "execution_count": 191,
   "metadata": {},
   "outputs": [
    {
     "output_type": "execute_result",
     "data": {
      "text/plain": "['clark@dailyplanet.com', 'diana@amazon.com', 'bruce@wayne.com']"
     },
     "metadata": {},
     "execution_count": 191
    }
   ],
   "source": [
    "people['email']"
   ]
  },
  {
   "cell_type": "code",
   "execution_count": 14,
   "metadata": {},
   "outputs": [],
   "source": [
    "# Now, let's use the same dictionary as a DataFrame.\n",
    "# We define a DataFrame by making a pd (or pandas) object with argument 'people', i.e. the dictionary"
   ]
  },
  {
   "cell_type": "code",
   "execution_count": 192,
   "metadata": {},
   "outputs": [],
   "source": [
    "df = pd.DataFrame(people)"
   ]
  },
  {
   "source": [
    "### ACCESSING SPECIFIC COLUMNS (OR SERIES)"
   ],
   "cell_type": "markdown",
   "metadata": {}
  },
  {
   "cell_type": "code",
   "execution_count": 193,
   "metadata": {},
   "outputs": [],
   "source": [
    "# just like in dictionaries, you can use keys to return a specific column (or list of values); each of these lists is called a 'series' or a one-dimensional array\n",
    "# to access a series, you can either write df['email'] or use dot notation, e.g. df.email\n",
    "# The difference is that while dictionary returns a list, df returns an 'object'"
   ]
  },
  {
   "cell_type": "code",
   "execution_count": 194,
   "metadata": {},
   "outputs": [
    {
     "output_type": "execute_result",
     "data": {
      "text/plain": "0    clark@dailyplanet.com\n1         diana@amazon.com\n2          bruce@wayne.com\nName: email, dtype: object"
     },
     "metadata": {},
     "execution_count": 194
    }
   ],
   "source": [
    "df['email']"
   ]
  },
  {
   "cell_type": "code",
   "execution_count": 195,
   "metadata": {},
   "outputs": [
    {
     "output_type": "execute_result",
     "data": {
      "text/plain": "['clark@dailyplanet.com', 'diana@amazon.com', 'bruce@wayne.com']"
     },
     "metadata": {},
     "execution_count": 195
    }
   ],
   "source": [
    "people['email']"
   ]
  },
  {
   "source": [
    "# If you want more than one column, or specific columns, you can also pass on a list of the labels and get them.  i.e. df[['last', 'email']]. \n",
    "# You need to use double brackets; if you do not, pandas will think that ['last', 'email'] is the label for one single series and hence return a key error. \n",
    "# You can check this by removing the double-brackets below."
   ],
   "cell_type": "code",
   "metadata": {},
   "execution_count": 19,
   "outputs": []
  },
  {
   "cell_type": "code",
   "execution_count": 196,
   "metadata": {},
   "outputs": [
    {
     "output_type": "execute_result",
     "data": {
      "text/plain": "     last                  email\n0    Kent  clark@dailyplanet.com\n1  Prince       diana@amazon.com\n2   Wayne        bruce@wayne.com",
      "text/html": "<div>\n<style scoped>\n    .dataframe tbody tr th:only-of-type {\n        vertical-align: middle;\n    }\n\n    .dataframe tbody tr th {\n        vertical-align: top;\n    }\n\n    .dataframe thead th {\n        text-align: right;\n    }\n</style>\n<table border=\"1\" class=\"dataframe\">\n  <thead>\n    <tr style=\"text-align: right;\">\n      <th></th>\n      <th>last</th>\n      <th>email</th>\n    </tr>\n  </thead>\n  <tbody>\n    <tr>\n      <th>0</th>\n      <td>Kent</td>\n      <td>clark@dailyplanet.com</td>\n    </tr>\n    <tr>\n      <th>1</th>\n      <td>Prince</td>\n      <td>diana@amazon.com</td>\n    </tr>\n    <tr>\n      <th>2</th>\n      <td>Wayne</td>\n      <td>bruce@wayne.com</td>\n    </tr>\n  </tbody>\n</table>\n</div>"
     },
     "metadata": {},
     "execution_count": 196
    }
   ],
   "source": [
    "df[['last', 'email']]"
   ]
  },
  {
   "source": [
    "### ACCESSING SPECIFIC ROWS WITH LOC & ILOC"
   ],
   "cell_type": "markdown",
   "metadata": {}
  },
  {
   "cell_type": "code",
   "execution_count": 21,
   "metadata": {},
   "outputs": [],
   "source": [
    "# to get specific rows, we use loc and iloc\n",
    "# iloc stands for integer location\n",
    "# Most people get confused between these two functions. The only difference you need to bother about is that while iloc uses numerical indices to access a value, loc uses label names. "
   ]
  },
  {
   "cell_type": "code",
   "execution_count": 197,
   "metadata": {},
   "outputs": [
    {
     "output_type": "execute_result",
     "data": {
      "text/plain": "first               Diana\nlast               Prince\nemail    diana@amazon.com\nName: 1, dtype: object"
     },
     "metadata": {},
     "execution_count": 197
    }
   ],
   "source": [
    "df.iloc[1]"
   ]
  },
  {
   "cell_type": "code",
   "execution_count": 23,
   "metadata": {},
   "outputs": [],
   "source": [
    "# if we need multiple rows, we can pass on the row indices as a list"
   ]
  },
  {
   "cell_type": "code",
   "execution_count": 198,
   "metadata": {},
   "outputs": [
    {
     "output_type": "execute_result",
     "data": {
      "text/plain": "   first    last                  email\n0  Clark    Kent  clark@dailyplanet.com\n1  Diana  Prince       diana@amazon.com",
      "text/html": "<div>\n<style scoped>\n    .dataframe tbody tr th:only-of-type {\n        vertical-align: middle;\n    }\n\n    .dataframe tbody tr th {\n        vertical-align: top;\n    }\n\n    .dataframe thead th {\n        text-align: right;\n    }\n</style>\n<table border=\"1\" class=\"dataframe\">\n  <thead>\n    <tr style=\"text-align: right;\">\n      <th></th>\n      <th>first</th>\n      <th>last</th>\n      <th>email</th>\n    </tr>\n  </thead>\n  <tbody>\n    <tr>\n      <th>0</th>\n      <td>Clark</td>\n      <td>Kent</td>\n      <td>clark@dailyplanet.com</td>\n    </tr>\n    <tr>\n      <th>1</th>\n      <td>Diana</td>\n      <td>Prince</td>\n      <td>diana@amazon.com</td>\n    </tr>\n  </tbody>\n</table>\n</div>"
     },
     "metadata": {},
     "execution_count": 198
    }
   ],
   "source": [
    "df.iloc[[0,1]]"
   ]
  },
  {
   "cell_type": "code",
   "execution_count": 25,
   "metadata": {},
   "outputs": [],
   "source": [
    "# iloc can also take a second argument. This will allow you to return specifc column or columns.\n",
    "# Here too iloc accepts numerical indices; so, to return the correct column, you'll need to know its index."
   ]
  },
  {
   "cell_type": "code",
   "execution_count": 199,
   "metadata": {},
   "outputs": [
    {
     "output_type": "execute_result",
     "data": {
      "text/plain": "   first                  email\n0  Clark  clark@dailyplanet.com\n1  Diana       diana@amazon.com",
      "text/html": "<div>\n<style scoped>\n    .dataframe tbody tr th:only-of-type {\n        vertical-align: middle;\n    }\n\n    .dataframe tbody tr th {\n        vertical-align: top;\n    }\n\n    .dataframe thead th {\n        text-align: right;\n    }\n</style>\n<table border=\"1\" class=\"dataframe\">\n  <thead>\n    <tr style=\"text-align: right;\">\n      <th></th>\n      <th>first</th>\n      <th>email</th>\n    </tr>\n  </thead>\n  <tbody>\n    <tr>\n      <th>0</th>\n      <td>Clark</td>\n      <td>clark@dailyplanet.com</td>\n    </tr>\n    <tr>\n      <th>1</th>\n      <td>Diana</td>\n      <td>diana@amazon.com</td>\n    </tr>\n  </tbody>\n</table>\n</div>"
     },
     "metadata": {},
     "execution_count": 199
    }
   ],
   "source": [
    "df.iloc[[0,1], [0,2]]"
   ]
  },
  {
   "cell_type": "code",
   "execution_count": 27,
   "metadata": {},
   "outputs": [],
   "source": [
    "# Instead of numerical indices, loc allows us to access the data by their labels as mentioned in the dataframe\n",
    "# By default, dataframes assign numerical indices to rows when creating a DatFrame. You can choose to replace this with a specific row later. But when we have numerical indices, loc uses this like a row label\n",
    "# for columns, we can use actual dataframe labels."
   ]
  },
  {
   "cell_type": "code",
   "execution_count": 200,
   "metadata": {},
   "outputs": [
    {
     "output_type": "execute_result",
     "data": {
      "text/plain": "first              Bruce\nlast               Wayne\nemail    bruce@wayne.com\nName: 2, dtype: object"
     },
     "metadata": {},
     "execution_count": 200
    }
   ],
   "source": [
    "df.loc[2] # Here, we are calling a specific row by referring to the row label, i.e. the numerical index"
   ]
  },
  {
   "cell_type": "code",
   "execution_count": 201,
   "metadata": {},
   "outputs": [
    {
     "output_type": "execute_result",
     "data": {
      "text/plain": "   first                  email\n0  Clark  clark@dailyplanet.com\n1  Diana       diana@amazon.com",
      "text/html": "<div>\n<style scoped>\n    .dataframe tbody tr th:only-of-type {\n        vertical-align: middle;\n    }\n\n    .dataframe tbody tr th {\n        vertical-align: top;\n    }\n\n    .dataframe thead th {\n        text-align: right;\n    }\n</style>\n<table border=\"1\" class=\"dataframe\">\n  <thead>\n    <tr style=\"text-align: right;\">\n      <th></th>\n      <th>first</th>\n      <th>email</th>\n    </tr>\n  </thead>\n  <tbody>\n    <tr>\n      <th>0</th>\n      <td>Clark</td>\n      <td>clark@dailyplanet.com</td>\n    </tr>\n    <tr>\n      <th>1</th>\n      <td>Diana</td>\n      <td>diana@amazon.com</td>\n    </tr>\n  </tbody>\n</table>\n</div>"
     },
     "metadata": {},
     "execution_count": 201
    }
   ],
   "source": [
    "# Similar to iloc, if we want multiple rows or columns, we can pass a list.\n",
    "\n",
    "df.loc[[0,1], ['first','email']]"
   ]
  },
  {
   "cell_type": "code",
   "execution_count": 114,
   "metadata": {},
   "outputs": [],
   "source": [
    "# You can also use slices to access a range of rows and columns\n",
    "# As with slices, the slice is exclusive of the last number. So, a column slice of '0:3' will return columns 0, 1 and 2 (excluding 3); same for rows."
   ]
  },
  {
   "cell_type": "code",
   "execution_count": 202,
   "metadata": {},
   "outputs": [
    {
     "output_type": "execute_result",
     "data": {
      "text/plain": "   first    last                  email\n0  Clark    Kent  clark@dailyplanet.com\n1  Diana  Prince       diana@amazon.com\n2  Bruce   Wayne        bruce@wayne.com",
      "text/html": "<div>\n<style scoped>\n    .dataframe tbody tr th:only-of-type {\n        vertical-align: middle;\n    }\n\n    .dataframe tbody tr th {\n        vertical-align: top;\n    }\n\n    .dataframe thead th {\n        text-align: right;\n    }\n</style>\n<table border=\"1\" class=\"dataframe\">\n  <thead>\n    <tr style=\"text-align: right;\">\n      <th></th>\n      <th>first</th>\n      <th>last</th>\n      <th>email</th>\n    </tr>\n  </thead>\n  <tbody>\n    <tr>\n      <th>0</th>\n      <td>Clark</td>\n      <td>Kent</td>\n      <td>clark@dailyplanet.com</td>\n    </tr>\n    <tr>\n      <th>1</th>\n      <td>Diana</td>\n      <td>Prince</td>\n      <td>diana@amazon.com</td>\n    </tr>\n    <tr>\n      <th>2</th>\n      <td>Bruce</td>\n      <td>Wayne</td>\n      <td>bruce@wayne.com</td>\n    </tr>\n  </tbody>\n</table>\n</div>"
     },
     "metadata": {},
     "execution_count": 202
    }
   ],
   "source": [
    "df"
   ]
  },
  {
   "cell_type": "code",
   "execution_count": 203,
   "metadata": {},
   "outputs": [
    {
     "output_type": "execute_result",
     "data": {
      "text/plain": "   first    last                  email\n0  Clark    Kent  clark@dailyplanet.com\n1  Diana  Prince       diana@amazon.com",
      "text/html": "<div>\n<style scoped>\n    .dataframe tbody tr th:only-of-type {\n        vertical-align: middle;\n    }\n\n    .dataframe tbody tr th {\n        vertical-align: top;\n    }\n\n    .dataframe thead th {\n        text-align: right;\n    }\n</style>\n<table border=\"1\" class=\"dataframe\">\n  <thead>\n    <tr style=\"text-align: right;\">\n      <th></th>\n      <th>first</th>\n      <th>last</th>\n      <th>email</th>\n    </tr>\n  </thead>\n  <tbody>\n    <tr>\n      <th>0</th>\n      <td>Clark</td>\n      <td>Kent</td>\n      <td>clark@dailyplanet.com</td>\n    </tr>\n    <tr>\n      <th>1</th>\n      <td>Diana</td>\n      <td>Prince</td>\n      <td>diana@amazon.com</td>\n    </tr>\n  </tbody>\n</table>\n</div>"
     },
     "metadata": {},
     "execution_count": 203
    }
   ],
   "source": [
    "df.iloc[0:2, 0:3]"
   ]
  },
  {
   "source": [
    "### DEFINING A CUSTOM INDEX INSTEAD OF DEFAULT NUMBERS IN FIRST COLUMN"
   ],
   "cell_type": "markdown",
   "metadata": {}
  },
  {
   "cell_type": "code",
   "execution_count": 204,
   "metadata": {},
   "outputs": [
    {
     "output_type": "execute_result",
     "data": {
      "text/plain": "                       first    last\nemail                               \nclark@dailyplanet.com  Clark    Kent\ndiana@amazon.com       Diana  Prince\nbruce@wayne.com        Bruce   Wayne",
      "text/html": "<div>\n<style scoped>\n    .dataframe tbody tr th:only-of-type {\n        vertical-align: middle;\n    }\n\n    .dataframe tbody tr th {\n        vertical-align: top;\n    }\n\n    .dataframe thead th {\n        text-align: right;\n    }\n</style>\n<table border=\"1\" class=\"dataframe\">\n  <thead>\n    <tr style=\"text-align: right;\">\n      <th></th>\n      <th>first</th>\n      <th>last</th>\n    </tr>\n    <tr>\n      <th>email</th>\n      <th></th>\n      <th></th>\n    </tr>\n  </thead>\n  <tbody>\n    <tr>\n      <th>clark@dailyplanet.com</th>\n      <td>Clark</td>\n      <td>Kent</td>\n    </tr>\n    <tr>\n      <th>diana@amazon.com</th>\n      <td>Diana</td>\n      <td>Prince</td>\n    </tr>\n    <tr>\n      <th>bruce@wayne.com</th>\n      <td>Bruce</td>\n      <td>Wayne</td>\n    </tr>\n  </tbody>\n</table>\n</div>"
     },
     "metadata": {},
     "execution_count": 204
    }
   ],
   "source": [
    "# You can set any of the columns as the index for a dataset (instead ot the default numerical index)\n",
    "\n",
    "df.set_index('email')\n"
   ]
  },
  {
   "cell_type": "code",
   "execution_count": 205,
   "metadata": {},
   "outputs": [],
   "source": [
    "# Such functions do not change the dataframe itself unless you explicitly ask it to. For example, all that the above function does is return a view of the data with the changes, while keeping the original dataframe untouched.\n",
    "# This is helpful so that we do not inadvertantly make errors when using these functions.\n",
    "# To make the changes to the original dataframe, we have to ask pandas to make the changes 'in place', like so:\n",
    "\n",
    "df.set_index('email', inplace = True)\n",
    "\n",
    "# Now, to access a particular row, we can use the loc function with the argument 'email' instead of a numerical index. "
   ]
  },
  {
   "cell_type": "code",
   "execution_count": 207,
   "metadata": {},
   "outputs": [
    {
     "output_type": "execute_result",
     "data": {
      "text/plain": "first    Clark\nlast      Kent\nName: clark@dailyplanet.com, dtype: object"
     },
     "metadata": {},
     "execution_count": 207
    }
   ],
   "source": [
    "df.loc['clark@dailyplanet.com']"
   ]
  },
  {
   "cell_type": "code",
   "execution_count": 208,
   "metadata": {},
   "outputs": [],
   "source": [
    "# to reset index to use numerical indices, we can use 'reset_index'\n",
    "\n",
    "df.reset_index(inplace=True)"
   ]
  },
  {
   "cell_type": "code",
   "execution_count": 209,
   "metadata": {},
   "outputs": [
    {
     "output_type": "execute_result",
     "data": {
      "text/plain": "                   email  first    last\n0  clark@dailyplanet.com  Clark    Kent\n1       diana@amazon.com  Diana  Prince\n2        bruce@wayne.com  Bruce   Wayne",
      "text/html": "<div>\n<style scoped>\n    .dataframe tbody tr th:only-of-type {\n        vertical-align: middle;\n    }\n\n    .dataframe tbody tr th {\n        vertical-align: top;\n    }\n\n    .dataframe thead th {\n        text-align: right;\n    }\n</style>\n<table border=\"1\" class=\"dataframe\">\n  <thead>\n    <tr style=\"text-align: right;\">\n      <th></th>\n      <th>email</th>\n      <th>first</th>\n      <th>last</th>\n    </tr>\n  </thead>\n  <tbody>\n    <tr>\n      <th>0</th>\n      <td>clark@dailyplanet.com</td>\n      <td>Clark</td>\n      <td>Kent</td>\n    </tr>\n    <tr>\n      <th>1</th>\n      <td>diana@amazon.com</td>\n      <td>Diana</td>\n      <td>Prince</td>\n    </tr>\n    <tr>\n      <th>2</th>\n      <td>bruce@wayne.com</td>\n      <td>Bruce</td>\n      <td>Wayne</td>\n    </tr>\n  </tbody>\n</table>\n</div>"
     },
     "metadata": {},
     "execution_count": 209
    }
   ],
   "source": [
    "df"
   ]
  },
  {
   "source": [
    "### FILTERING"
   ],
   "cell_type": "markdown",
   "metadata": {}
  },
  {
   "cell_type": "code",
   "execution_count": 210,
   "metadata": {},
   "outputs": [
    {
     "output_type": "execute_result",
     "data": {
      "text/plain": "0    False\n1     True\n2    False\nName: last, dtype: bool"
     },
     "metadata": {},
     "execution_count": 210
    }
   ],
   "source": [
    "# While loc and iloc allow us to access specific rows, they do not allow us to access rows conditionally; we need to have foreknowledge of which rows we want to acces, and what are their indices.\n",
    "# To work around this, we need to use conditional filtering.\n",
    "\n",
    "# The below is NOT an assingment statement; do note the '==' instead of '='\n",
    "# What the statement does is test to truthfulness of the statement for each row.\n",
    "# The output works like a filter mask. The value is True for rows that qualify (i.e. the column 'last' IS equal to 'Doe'), and False for rows that do not (i.e. the column 'last' is NOT equal to 'Doe')\n",
    "# We can use this output for conditional filtering.\n",
    "\n",
    "df['last'] == 'Prince'"
   ]
  },
  {
   "cell_type": "code",
   "execution_count": 211,
   "metadata": {},
   "outputs": [],
   "source": [
    "# To use the above as a conditional filter, we assign it's output to a variable\n",
    "# Be careful not to use 'filter' as a variable name as 'filter' is a reserved word in Python.\n",
    "\n",
    "filt = (df['last'] =='Prince')"
   ]
  },
  {
   "cell_type": "code",
   "execution_count": 212,
   "metadata": {},
   "outputs": [
    {
     "output_type": "execute_result",
     "data": {
      "text/plain": "              email  first    last\n1  diana@amazon.com  Diana  Prince",
      "text/html": "<div>\n<style scoped>\n    .dataframe tbody tr th:only-of-type {\n        vertical-align: middle;\n    }\n\n    .dataframe tbody tr th {\n        vertical-align: top;\n    }\n\n    .dataframe thead th {\n        text-align: right;\n    }\n</style>\n<table border=\"1\" class=\"dataframe\">\n  <thead>\n    <tr style=\"text-align: right;\">\n      <th></th>\n      <th>email</th>\n      <th>first</th>\n      <th>last</th>\n    </tr>\n  </thead>\n  <tbody>\n    <tr>\n      <th>1</th>\n      <td>diana@amazon.com</td>\n      <td>Diana</td>\n      <td>Prince</td>\n    </tr>\n  </tbody>\n</table>\n</div>"
     },
     "metadata": {},
     "execution_count": 212
    }
   ],
   "source": [
    "# With the filter assigned to a variable, we can pass it to the dataframe command to access the dataframe\n",
    "# The dataframe that is returned will only include the rows that meet the filtering criteria\n",
    "\n",
    "df[filt]"
   ]
  },
  {
   "cell_type": "code",
   "execution_count": 213,
   "metadata": {},
   "outputs": [
    {
     "output_type": "execute_result",
     "data": {
      "text/plain": "1    diana@amazon.com\nName: email, dtype: object"
     },
     "metadata": {},
     "execution_count": 213
    }
   ],
   "source": [
    "# The above returns the entire table for the specific rows, i.e. all the columns\n",
    "# If we are interested in only specific columns, we can also use the filter in a loc function and speicfy the column we want.\n",
    "\n",
    "df.loc[filt, 'email']"
   ]
  },
  {
   "cell_type": "code",
   "execution_count": 214,
   "metadata": {},
   "outputs": [
    {
     "output_type": "execute_result",
     "data": {
      "text/plain": "0    clark@dailyplanet.com\n2          bruce@wayne.com\nName: email, dtype: object"
     },
     "metadata": {},
     "execution_count": 214
    }
   ],
   "source": [
    "# We can also string together multiple filters by usin 'AND' and 'OR'\n",
    "# But, do note that in Pandas, AND is & and OR is |\n",
    "# So, to define a filter that tests for a row that has 'John' as the first name OR(i.e. '|') 'Doe' as the last name:\n",
    "filt2 = ((df['first'] =='Clark') | (df['last'] == 'Wayne'))\n",
    "df.loc[filt2, 'email']"
   ]
  },
  {
   "cell_type": "code",
   "execution_count": 216,
   "metadata": {},
   "outputs": [
    {
     "output_type": "execute_result",
     "data": {
      "text/plain": "1    diana@amazon.com\nName: email, dtype: object"
     },
     "metadata": {},
     "execution_count": 216
    }
   ],
   "source": [
    "# You can similarly string together various conditions to make NOT filters as well.\n",
    "# But an easier way is to just use the '~' before a filter to make it a NOT filter.\n",
    "# In the below statement, the filter is anything that is NOT 'filt'\n",
    "\n",
    "df.loc[~filt2, 'email']"
   ]
  },
  {
   "source": [
    "### HOW TO UPDATE COLUMNS"
   ],
   "cell_type": "markdown",
   "metadata": {}
  },
  {
   "cell_type": "code",
   "execution_count": 217,
   "metadata": {},
   "outputs": [
    {
     "output_type": "execute_result",
     "data": {
      "text/plain": "Index(['email', 'first', 'last'], dtype='object')"
     },
     "metadata": {},
     "execution_count": 217
    }
   ],
   "source": [
    "# If you want to get a list of all the columns in a particular dataframe, you can do so by using the df.columns function\n",
    "\n",
    "df.columns"
   ]
  },
  {
   "cell_type": "code",
   "execution_count": 43,
   "metadata": {},
   "outputs": [],
   "source": [
    "# Now, if you want to change the column names, you can do so by a couple of methods:"
   ]
  },
  {
   "cell_type": "code",
   "execution_count": 226,
   "metadata": {},
   "outputs": [],
   "source": [
    "# Method 1: Using the df.columns to summon up the list of all columns, and then assigning it to a list of desired column names.\n",
    "\n",
    "df.columns = ['EMAIL', 'FIRST NAME', 'LAST_NAME'] # this will change all column names"
   ]
  },
  {
   "cell_type": "code",
   "execution_count": 227,
   "metadata": {},
   "outputs": [
    {
     "output_type": "execute_result",
     "data": {
      "text/plain": "                   EMAIL FIRST NAME LAST_NAME\n0  clark@dailyplanet.com      Clark      Kent\n1       diana@amazon.com      Diana    Prince\n2        bruce@wayne.com      Bruce     Wayne",
      "text/html": "<div>\n<style scoped>\n    .dataframe tbody tr th:only-of-type {\n        vertical-align: middle;\n    }\n\n    .dataframe tbody tr th {\n        vertical-align: top;\n    }\n\n    .dataframe thead th {\n        text-align: right;\n    }\n</style>\n<table border=\"1\" class=\"dataframe\">\n  <thead>\n    <tr style=\"text-align: right;\">\n      <th></th>\n      <th>EMAIL</th>\n      <th>FIRST NAME</th>\n      <th>LAST_NAME</th>\n    </tr>\n  </thead>\n  <tbody>\n    <tr>\n      <th>0</th>\n      <td>clark@dailyplanet.com</td>\n      <td>Clark</td>\n      <td>Kent</td>\n    </tr>\n    <tr>\n      <th>1</th>\n      <td>diana@amazon.com</td>\n      <td>Diana</td>\n      <td>Prince</td>\n    </tr>\n    <tr>\n      <th>2</th>\n      <td>bruce@wayne.com</td>\n      <td>Bruce</td>\n      <td>Wayne</td>\n    </tr>\n  </tbody>\n</table>\n</div>"
     },
     "metadata": {},
     "execution_count": 227
    }
   ],
   "source": [
    "# The renamed columns\n",
    "\n",
    "df"
   ]
  },
  {
   "cell_type": "code",
   "execution_count": 228,
   "metadata": {},
   "outputs": [],
   "source": [
    "# Method 3: Using List comprehension\n",
    "\n",
    "df.columns = [x.lower() for x in df.columns] "
   ]
  },
  {
   "cell_type": "code",
   "execution_count": 229,
   "metadata": {},
   "outputs": [
    {
     "output_type": "execute_result",
     "data": {
      "text/plain": "                   email first name last_name\n0  clark@dailyplanet.com      Clark      Kent\n1       diana@amazon.com      Diana    Prince\n2        bruce@wayne.com      Bruce     Wayne",
      "text/html": "<div>\n<style scoped>\n    .dataframe tbody tr th:only-of-type {\n        vertical-align: middle;\n    }\n\n    .dataframe tbody tr th {\n        vertical-align: top;\n    }\n\n    .dataframe thead th {\n        text-align: right;\n    }\n</style>\n<table border=\"1\" class=\"dataframe\">\n  <thead>\n    <tr style=\"text-align: right;\">\n      <th></th>\n      <th>email</th>\n      <th>first name</th>\n      <th>last_name</th>\n    </tr>\n  </thead>\n  <tbody>\n    <tr>\n      <th>0</th>\n      <td>clark@dailyplanet.com</td>\n      <td>Clark</td>\n      <td>Kent</td>\n    </tr>\n    <tr>\n      <th>1</th>\n      <td>diana@amazon.com</td>\n      <td>Diana</td>\n      <td>Prince</td>\n    </tr>\n    <tr>\n      <th>2</th>\n      <td>bruce@wayne.com</td>\n      <td>Bruce</td>\n      <td>Wayne</td>\n    </tr>\n  </tbody>\n</table>\n</div>"
     },
     "metadata": {},
     "execution_count": 229
    }
   ],
   "source": [
    "df"
   ]
  },
  {
   "cell_type": "code",
   "execution_count": 230,
   "metadata": {},
   "outputs": [],
   "source": [
    "# Method 3: We can also use string methods (replace) to modify the column names\n",
    "# Below, we are using this to replace 'spaces' with 'under_scores'.\n",
    "\n",
    "df.columns = df.columns.str.replace(' ', '_')"
   ]
  },
  {
   "cell_type": "code",
   "execution_count": 225,
   "metadata": {},
   "outputs": [
    {
     "output_type": "execute_result",
     "data": {
      "text/plain": "                   email first_name last_name\n0  clark@dailyplanet.com      Clark      Kent\n1       diana@amazon.com      Diana    Prince\n2        bruce@wayne.com      Bruce     Wayne",
      "text/html": "<div>\n<style scoped>\n    .dataframe tbody tr th:only-of-type {\n        vertical-align: middle;\n    }\n\n    .dataframe tbody tr th {\n        vertical-align: top;\n    }\n\n    .dataframe thead th {\n        text-align: right;\n    }\n</style>\n<table border=\"1\" class=\"dataframe\">\n  <thead>\n    <tr style=\"text-align: right;\">\n      <th></th>\n      <th>email</th>\n      <th>first_name</th>\n      <th>last_name</th>\n    </tr>\n  </thead>\n  <tbody>\n    <tr>\n      <th>0</th>\n      <td>clark@dailyplanet.com</td>\n      <td>Clark</td>\n      <td>Kent</td>\n    </tr>\n    <tr>\n      <th>1</th>\n      <td>diana@amazon.com</td>\n      <td>Diana</td>\n      <td>Prince</td>\n    </tr>\n    <tr>\n      <th>2</th>\n      <td>bruce@wayne.com</td>\n      <td>Bruce</td>\n      <td>Wayne</td>\n    </tr>\n  </tbody>\n</table>\n</div>"
     },
     "metadata": {},
     "execution_count": 225
    }
   ],
   "source": [
    "# note how 'first name' has been replaced by 'first_name'\n",
    "\n",
    "df"
   ]
  },
  {
   "cell_type": "code",
   "execution_count": 231,
   "metadata": {},
   "outputs": [],
   "source": [
    "# Method 4: We can also use the 'rename' function to pass a dictionary of the old and new column names.\n",
    "# This method is particularly useful when you only want to rename specific columns\n",
    "\n",
    "df.rename(columns = {'first_name': 'first', 'last_name': 'last'}, inplace=True)"
   ]
  },
  {
   "cell_type": "code",
   "execution_count": 232,
   "metadata": {},
   "outputs": [
    {
     "output_type": "execute_result",
     "data": {
      "text/plain": "                   email  first    last\n0  clark@dailyplanet.com  Clark    Kent\n1       diana@amazon.com  Diana  Prince\n2        bruce@wayne.com  Bruce   Wayne",
      "text/html": "<div>\n<style scoped>\n    .dataframe tbody tr th:only-of-type {\n        vertical-align: middle;\n    }\n\n    .dataframe tbody tr th {\n        vertical-align: top;\n    }\n\n    .dataframe thead th {\n        text-align: right;\n    }\n</style>\n<table border=\"1\" class=\"dataframe\">\n  <thead>\n    <tr style=\"text-align: right;\">\n      <th></th>\n      <th>email</th>\n      <th>first</th>\n      <th>last</th>\n    </tr>\n  </thead>\n  <tbody>\n    <tr>\n      <th>0</th>\n      <td>clark@dailyplanet.com</td>\n      <td>Clark</td>\n      <td>Kent</td>\n    </tr>\n    <tr>\n      <th>1</th>\n      <td>diana@amazon.com</td>\n      <td>Diana</td>\n      <td>Prince</td>\n    </tr>\n    <tr>\n      <th>2</th>\n      <td>bruce@wayne.com</td>\n      <td>Bruce</td>\n      <td>Wayne</td>\n    </tr>\n  </tbody>\n</table>\n</div>"
     },
     "metadata": {},
     "execution_count": 232
    }
   ],
   "source": [
    "df"
   ]
  },
  {
   "source": [
    "### HOW TO UPDATE A SINGLE CELL OR A ROW OF DATA"
   ],
   "cell_type": "markdown",
   "metadata": {}
  },
  {
   "source": [
    "# You can update a specific cell by accessing it by the loc function and using it in an assignment statement.\n",
    "\n",
    "df.loc[2, 'last'] = 'Bale' "
   ],
   "cell_type": "code",
   "metadata": {},
   "execution_count": 235,
   "outputs": []
  },
  {
   "cell_type": "code",
   "execution_count": 236,
   "metadata": {},
   "outputs": [
    {
     "output_type": "execute_result",
     "data": {
      "text/plain": "                   email  first    last\n0  clark@dailyplanet.com  Clark    Kent\n1       diana@amazon.com  Diana  Prince\n2        bruce@wayne.com  Bruce    Bale",
      "text/html": "<div>\n<style scoped>\n    .dataframe tbody tr th:only-of-type {\n        vertical-align: middle;\n    }\n\n    .dataframe tbody tr th {\n        vertical-align: top;\n    }\n\n    .dataframe thead th {\n        text-align: right;\n    }\n</style>\n<table border=\"1\" class=\"dataframe\">\n  <thead>\n    <tr style=\"text-align: right;\">\n      <th></th>\n      <th>email</th>\n      <th>first</th>\n      <th>last</th>\n    </tr>\n  </thead>\n  <tbody>\n    <tr>\n      <th>0</th>\n      <td>clark@dailyplanet.com</td>\n      <td>Clark</td>\n      <td>Kent</td>\n    </tr>\n    <tr>\n      <th>1</th>\n      <td>diana@amazon.com</td>\n      <td>Diana</td>\n      <td>Prince</td>\n    </tr>\n    <tr>\n      <th>2</th>\n      <td>bruce@wayne.com</td>\n      <td>Bruce</td>\n      <td>Bale</td>\n    </tr>\n  </tbody>\n</table>\n</div>"
     },
     "metadata": {},
     "execution_count": 236
    }
   ],
   "source": [
    "df"
   ]
  },
  {
   "cell_type": "code",
   "execution_count": 237,
   "metadata": {},
   "outputs": [],
   "source": [
    "# You can also update all values in a row by accessing the entire row using the loc function and assigning it to a list of desired values/\n",
    "\n",
    "df.loc[2] = ['christian@wayne.com', 'Christian' ,'Bale']"
   ]
  },
  {
   "cell_type": "code",
   "execution_count": 238,
   "metadata": {},
   "outputs": [
    {
     "output_type": "execute_result",
     "data": {
      "text/plain": "                   email      first    last\n0  clark@dailyplanet.com      Clark    Kent\n1       diana@amazon.com      Diana  Prince\n2    christian@wayne.com  Christian    Bale",
      "text/html": "<div>\n<style scoped>\n    .dataframe tbody tr th:only-of-type {\n        vertical-align: middle;\n    }\n\n    .dataframe tbody tr th {\n        vertical-align: top;\n    }\n\n    .dataframe thead th {\n        text-align: right;\n    }\n</style>\n<table border=\"1\" class=\"dataframe\">\n  <thead>\n    <tr style=\"text-align: right;\">\n      <th></th>\n      <th>email</th>\n      <th>first</th>\n      <th>last</th>\n    </tr>\n  </thead>\n  <tbody>\n    <tr>\n      <th>0</th>\n      <td>clark@dailyplanet.com</td>\n      <td>Clark</td>\n      <td>Kent</td>\n    </tr>\n    <tr>\n      <th>1</th>\n      <td>diana@amazon.com</td>\n      <td>Diana</td>\n      <td>Prince</td>\n    </tr>\n    <tr>\n      <th>2</th>\n      <td>christian@wayne.com</td>\n      <td>Christian</td>\n      <td>Bale</td>\n    </tr>\n  </tbody>\n</table>\n</div>"
     },
     "metadata": {},
     "execution_count": 238
    }
   ],
   "source": [
    "df"
   ]
  },
  {
   "cell_type": "code",
   "execution_count": 239,
   "metadata": {},
   "outputs": [],
   "source": [
    "# An alternate method is to use the 'at' command. \n",
    "\n",
    "df.at[2, 'last'] = 'Wayne'"
   ]
  },
  {
   "cell_type": "code",
   "execution_count": 240,
   "metadata": {},
   "outputs": [
    {
     "output_type": "execute_result",
     "data": {
      "text/plain": "                   email      first    last\n0  clark@dailyplanet.com      Clark    Kent\n1       diana@amazon.com      Diana  Prince\n2    christian@wayne.com  Christian   Wayne",
      "text/html": "<div>\n<style scoped>\n    .dataframe tbody tr th:only-of-type {\n        vertical-align: middle;\n    }\n\n    .dataframe tbody tr th {\n        vertical-align: top;\n    }\n\n    .dataframe thead th {\n        text-align: right;\n    }\n</style>\n<table border=\"1\" class=\"dataframe\">\n  <thead>\n    <tr style=\"text-align: right;\">\n      <th></th>\n      <th>email</th>\n      <th>first</th>\n      <th>last</th>\n    </tr>\n  </thead>\n  <tbody>\n    <tr>\n      <th>0</th>\n      <td>clark@dailyplanet.com</td>\n      <td>Clark</td>\n      <td>Kent</td>\n    </tr>\n    <tr>\n      <th>1</th>\n      <td>diana@amazon.com</td>\n      <td>Diana</td>\n      <td>Prince</td>\n    </tr>\n    <tr>\n      <th>2</th>\n      <td>christian@wayne.com</td>\n      <td>Christian</td>\n      <td>Wayne</td>\n    </tr>\n  </tbody>\n</table>\n</div>"
     },
     "metadata": {},
     "execution_count": 240
    }
   ],
   "source": [
    "df"
   ]
  },
  {
   "cell_type": "code",
   "execution_count": 52,
   "metadata": {},
   "outputs": [],
   "source": [
    "# Do note that you cannot change values in cells by filtering. You will get an index error. Try it. "
   ]
  },
  {
   "source": [
    "### HOW TO UPDATE AN ENTIRE COLUMN OR MULTIPLE ROWS"
   ],
   "cell_type": "markdown",
   "metadata": {}
  },
  {
   "cell_type": "code",
   "execution_count": 241,
   "metadata": {},
   "outputs": [
    {
     "output_type": "execute_result",
     "data": {
      "text/plain": "0    clark@dailyplanet.com\n1         diana@amazon.com\n2      christian@wayne.com\nName: email, dtype: object"
     },
     "metadata": {},
     "execution_count": 241
    }
   ],
   "source": [
    "# Suppose you wanted to convert all the email IDs to lower case. You can do this by first accessing the 'email' column, and then using a string method (lower) on it.\n",
    "\n",
    "df['email'].str.lower()"
   ]
  },
  {
   "cell_type": "code",
   "execution_count": 242,
   "metadata": {},
   "outputs": [],
   "source": [
    "# However, this will not change the original dataframe. To commit the changes to the original dataframe, you'll need to use an assignment function, like so: \n",
    "\n",
    "df['email'] = df['email'].str.lower()"
   ]
  },
  {
   "cell_type": "code",
   "execution_count": 243,
   "metadata": {},
   "outputs": [
    {
     "output_type": "execute_result",
     "data": {
      "text/plain": "                   email      first    last\n0  clark@dailyplanet.com      Clark    Kent\n1       diana@amazon.com      Diana  Prince\n2    christian@wayne.com  Christian   Wayne",
      "text/html": "<div>\n<style scoped>\n    .dataframe tbody tr th:only-of-type {\n        vertical-align: middle;\n    }\n\n    .dataframe tbody tr th {\n        vertical-align: top;\n    }\n\n    .dataframe thead th {\n        text-align: right;\n    }\n</style>\n<table border=\"1\" class=\"dataframe\">\n  <thead>\n    <tr style=\"text-align: right;\">\n      <th></th>\n      <th>email</th>\n      <th>first</th>\n      <th>last</th>\n    </tr>\n  </thead>\n  <tbody>\n    <tr>\n      <th>0</th>\n      <td>clark@dailyplanet.com</td>\n      <td>Clark</td>\n      <td>Kent</td>\n    </tr>\n    <tr>\n      <th>1</th>\n      <td>diana@amazon.com</td>\n      <td>Diana</td>\n      <td>Prince</td>\n    </tr>\n    <tr>\n      <th>2</th>\n      <td>christian@wayne.com</td>\n      <td>Christian</td>\n      <td>Wayne</td>\n    </tr>\n  </tbody>\n</table>\n</div>"
     },
     "metadata": {},
     "execution_count": 243
    }
   ],
   "source": [
    "df"
   ]
  },
  {
   "cell_type": "code",
   "execution_count": 57,
   "metadata": {},
   "outputs": [],
   "source": [
    "# There are some functions that use the 'in place' argument, and some that work with assignment. I know it's confusing. I've also not been able to figure out the difference. :P\n",
    "\n",
    "# There are 4 more methods to do these changes:\n",
    "# apply ---> to df and series\n",
    "# applymap --> to entire df\n",
    "# map ---> to series\n",
    "# replace --> similar to map, but keeps other values intact"
   ]
  },
  {
   "source": [
    "#### apply"
   ],
   "cell_type": "markdown",
   "metadata": {}
  },
  {
   "cell_type": "code",
   "execution_count": 146,
   "metadata": {},
   "outputs": [],
   "source": [
    "# Can work on an entire dataframe or on a specific series\n",
    "# apply works by allowing you to 'apply' a function to a dataframe or a series.\n",
    "# You can either pass the function directly, define it beforehand, or use a lambda function. "
   ]
  },
  {
   "cell_type": "code",
   "execution_count": 244,
   "metadata": {},
   "outputs": [
    {
     "output_type": "execute_result",
     "data": {
      "text/plain": "0    21\n1    16\n2    19\nName: email, dtype: int64"
     },
     "metadata": {},
     "execution_count": 244
    }
   ],
   "source": [
    "# Here, we are passing the function directly to a series, i.e. 'email'.\n",
    "# The function just returns the len of each cell in the series.\n",
    "\n",
    "df['email'].apply(len)"
   ]
  },
  {
   "cell_type": "code",
   "execution_count": 245,
   "metadata": {},
   "outputs": [
    {
     "output_type": "execute_result",
     "data": {
      "text/plain": "0    CLARK@DAILYPLANET.COM\n1         DIANA@AMAZON.COM\n2      CHRISTIAN@WAYNE.COM\nName: email, dtype: object"
     },
     "metadata": {},
     "execution_count": 245
    }
   ],
   "source": [
    "# Here, we are first defining a function called 'update_email'. \n",
    "# All that the function does is converts stuff to upper case. \n",
    "\n",
    "def update_email(email):\n",
    "    return email.upper()\n",
    "\n",
    "# Once defined, we can use the function inside of an apply function, like so:\n",
    "\n",
    "df['email'].apply(update_email)"
   ]
  },
  {
   "cell_type": "code",
   "execution_count": 246,
   "metadata": {},
   "outputs": [
    {
     "output_type": "execute_result",
     "data": {
      "text/plain": "0    clark@dailyplanet.com\n1         diana@amazon.com\n2      christian@wayne.com\nName: email, dtype: object"
     },
     "metadata": {},
     "execution_count": 246
    }
   ],
   "source": [
    "# Here, we are doing exactly the same thing, except that instead of pre-defining the function, we are using a lambda function\n",
    "\n",
    "df['email'].apply(lambda x: x.lower())"
   ]
  },
  {
   "cell_type": "code",
   "execution_count": 63,
   "metadata": {},
   "outputs": [],
   "source": [
    "# let's see how apply works on dataframes"
   ]
  },
  {
   "cell_type": "code",
   "execution_count": 247,
   "metadata": {},
   "outputs": [
    {
     "output_type": "execute_result",
     "data": {
      "text/plain": "email    3\nfirst    3\nlast     3\ndtype: int64"
     },
     "metadata": {},
     "execution_count": 247
    }
   ],
   "source": [
    "df.apply(len)\n",
    "\n",
    "# this just returns the number of entries in each row. But not to specific instances"
   ]
  },
  {
   "cell_type": "code",
   "execution_count": 248,
   "metadata": {},
   "outputs": [
    {
     "output_type": "execute_result",
     "data": {
      "text/plain": "0    3\n1    3\n2    3\ndtype: int64"
     },
     "metadata": {},
     "execution_count": 248
    }
   ],
   "source": [
    "df.apply(len, axis = 'columns') \n",
    "\n",
    "# this returns number of entries in every column. But not to specific instances"
   ]
  },
  {
   "cell_type": "code",
   "execution_count": 249,
   "metadata": {},
   "outputs": [
    {
     "output_type": "execute_result",
     "data": {
      "text/plain": "email    christian@wayne.com\nfirst              Christian\nlast                    Kent\ndtype: object"
     },
     "metadata": {},
     "execution_count": 249
    }
   ],
   "source": [
    "df.apply(pd.Series.min) \n",
    "\n",
    "# this returns the min value of each column; if column doesn't have a number, then it just picks the first entry alphabetically"
   ]
  },
  {
   "cell_type": "code",
   "execution_count": 250,
   "metadata": {},
   "outputs": [
    {
     "output_type": "execute_result",
     "data": {
      "text/plain": "email    christian@wayne.com\nfirst              Christian\nlast                    Kent\ndtype: object"
     },
     "metadata": {},
     "execution_count": 250
    }
   ],
   "source": [
    "df.apply(lambda x: x.min())\n",
    "\n",
    "# exactly same as above, except using lambda function"
   ]
  },
  {
   "source": [
    "#### applymap"
   ],
   "cell_type": "markdown",
   "metadata": {}
  },
  {
   "cell_type": "code",
   "execution_count": 251,
   "metadata": {},
   "outputs": [
    {
     "output_type": "execute_result",
     "data": {
      "text/plain": "   email  first  last\n0     21      5     4\n1     16      5     6\n2     19      9     5",
      "text/html": "<div>\n<style scoped>\n    .dataframe tbody tr th:only-of-type {\n        vertical-align: middle;\n    }\n\n    .dataframe tbody tr th {\n        vertical-align: top;\n    }\n\n    .dataframe thead th {\n        text-align: right;\n    }\n</style>\n<table border=\"1\" class=\"dataframe\">\n  <thead>\n    <tr style=\"text-align: right;\">\n      <th></th>\n      <th>email</th>\n      <th>first</th>\n      <th>last</th>\n    </tr>\n  </thead>\n  <tbody>\n    <tr>\n      <th>0</th>\n      <td>21</td>\n      <td>5</td>\n      <td>4</td>\n    </tr>\n    <tr>\n      <th>1</th>\n      <td>16</td>\n      <td>5</td>\n      <td>6</td>\n    </tr>\n    <tr>\n      <th>2</th>\n      <td>19</td>\n      <td>9</td>\n      <td>5</td>\n    </tr>\n  </tbody>\n</table>\n</div>"
     },
     "metadata": {},
     "execution_count": 251
    }
   ],
   "source": [
    "# Applymap only works on dataframes. \n",
    "# Applies function to ALL entries in df\n",
    "\n",
    "df.applymap(len)"
   ]
  },
  {
   "cell_type": "code",
   "execution_count": 252,
   "metadata": {},
   "outputs": [
    {
     "output_type": "execute_result",
     "data": {
      "text/plain": "                   email      first    last\n0  clark@dailyplanet.com      clark    kent\n1       diana@amazon.com      diana  prince\n2    christian@wayne.com  christian   wayne",
      "text/html": "<div>\n<style scoped>\n    .dataframe tbody tr th:only-of-type {\n        vertical-align: middle;\n    }\n\n    .dataframe tbody tr th {\n        vertical-align: top;\n    }\n\n    .dataframe thead th {\n        text-align: right;\n    }\n</style>\n<table border=\"1\" class=\"dataframe\">\n  <thead>\n    <tr style=\"text-align: right;\">\n      <th></th>\n      <th>email</th>\n      <th>first</th>\n      <th>last</th>\n    </tr>\n  </thead>\n  <tbody>\n    <tr>\n      <th>0</th>\n      <td>clark@dailyplanet.com</td>\n      <td>clark</td>\n      <td>kent</td>\n    </tr>\n    <tr>\n      <th>1</th>\n      <td>diana@amazon.com</td>\n      <td>diana</td>\n      <td>prince</td>\n    </tr>\n    <tr>\n      <th>2</th>\n      <td>christian@wayne.com</td>\n      <td>christian</td>\n      <td>wayne</td>\n    </tr>\n  </tbody>\n</table>\n</div>"
     },
     "metadata": {},
     "execution_count": 252
    }
   ],
   "source": [
    "df.applymap(str.lower)"
   ]
  },
  {
   "source": [
    "#### map"
   ],
   "cell_type": "markdown",
   "metadata": {}
  },
  {
   "cell_type": "code",
   "execution_count": 253,
   "metadata": {},
   "outputs": [
    {
     "output_type": "execute_result",
     "data": {
      "text/plain": "0    Christopher\n1            Gal\n2            NaN\nName: first, dtype: object"
     },
     "metadata": {},
     "execution_count": 253
    }
   ],
   "source": [
    "# map only works on a series; used to substitite values in a series\n",
    "# summon up the series using bracket notation, then pass on a dictionary\n",
    "# for entries that are not mentioned, it will be replaced by Nan; if you don't want this, then use the REPLACE method instead\n",
    "\n",
    "df['first'].map({'Clark': 'Christopher', 'Diana': 'Gal'})"
   ]
  },
  {
   "source": [
    "#### replace"
   ],
   "cell_type": "markdown",
   "metadata": {}
  },
  {
   "cell_type": "code",
   "execution_count": 254,
   "metadata": {},
   "outputs": [
    {
     "output_type": "execute_result",
     "data": {
      "text/plain": "0    Christoper\n1           Gal\n2     Christian\nName: first, dtype: object"
     },
     "metadata": {},
     "execution_count": 254
    }
   ],
   "source": [
    "# similar to map, it works on a series;\n",
    "# unlike map, for values that are not there in the dictionary that's passed to it, it retains the existing value. \n",
    "\n",
    "df['first'].replace({'Clark': 'Christoper', 'Diana': 'Gal'})"
   ]
  },
  {
   "source": [
    "### ADDING AND REMOVING COLUMNS AND ROWS"
   ],
   "cell_type": "markdown",
   "metadata": {}
  },
  {
   "source": [
    "#### ADDING COLUMNS"
   ],
   "cell_type": "markdown",
   "metadata": {}
  },
  {
   "cell_type": "code",
   "execution_count": 255,
   "metadata": {},
   "outputs": [],
   "source": [
    "# You can add two columns by accessing them by bracket notation and adding them up.\n",
    "\n",
    "df['full_name'] = df['first'] + ' '+ df['last']"
   ]
  },
  {
   "cell_type": "code",
   "execution_count": 256,
   "metadata": {},
   "outputs": [
    {
     "output_type": "execute_result",
     "data": {
      "text/plain": "                   email      first    last        full_name\n0  clark@dailyplanet.com      Clark    Kent       Clark Kent\n1       diana@amazon.com      Diana  Prince     Diana Prince\n2    christian@wayne.com  Christian   Wayne  Christian Wayne",
      "text/html": "<div>\n<style scoped>\n    .dataframe tbody tr th:only-of-type {\n        vertical-align: middle;\n    }\n\n    .dataframe tbody tr th {\n        vertical-align: top;\n    }\n\n    .dataframe thead th {\n        text-align: right;\n    }\n</style>\n<table border=\"1\" class=\"dataframe\">\n  <thead>\n    <tr style=\"text-align: right;\">\n      <th></th>\n      <th>email</th>\n      <th>first</th>\n      <th>last</th>\n      <th>full_name</th>\n    </tr>\n  </thead>\n  <tbody>\n    <tr>\n      <th>0</th>\n      <td>clark@dailyplanet.com</td>\n      <td>Clark</td>\n      <td>Kent</td>\n      <td>Clark Kent</td>\n    </tr>\n    <tr>\n      <th>1</th>\n      <td>diana@amazon.com</td>\n      <td>Diana</td>\n      <td>Prince</td>\n      <td>Diana Prince</td>\n    </tr>\n    <tr>\n      <th>2</th>\n      <td>christian@wayne.com</td>\n      <td>Christian</td>\n      <td>Wayne</td>\n      <td>Christian Wayne</td>\n    </tr>\n  </tbody>\n</table>\n</div>"
     },
     "metadata": {},
     "execution_count": 256
    }
   ],
   "source": [
    "df"
   ]
  },
  {
   "cell_type": "code",
   "execution_count": 257,
   "metadata": {},
   "outputs": [],
   "source": [
    "# You can remove columns by using the 'drop' function\n",
    "\n",
    "df.drop(columns = ['first', 'last'], inplace= True) # like always, ahve to use inplace to change the actual df"
   ]
  },
  {
   "cell_type": "code",
   "execution_count": 258,
   "metadata": {},
   "outputs": [
    {
     "output_type": "execute_result",
     "data": {
      "text/plain": "                   email        full_name\n0  clark@dailyplanet.com       Clark Kent\n1       diana@amazon.com     Diana Prince\n2    christian@wayne.com  Christian Wayne",
      "text/html": "<div>\n<style scoped>\n    .dataframe tbody tr th:only-of-type {\n        vertical-align: middle;\n    }\n\n    .dataframe tbody tr th {\n        vertical-align: top;\n    }\n\n    .dataframe thead th {\n        text-align: right;\n    }\n</style>\n<table border=\"1\" class=\"dataframe\">\n  <thead>\n    <tr style=\"text-align: right;\">\n      <th></th>\n      <th>email</th>\n      <th>full_name</th>\n    </tr>\n  </thead>\n  <tbody>\n    <tr>\n      <th>0</th>\n      <td>clark@dailyplanet.com</td>\n      <td>Clark Kent</td>\n    </tr>\n    <tr>\n      <th>1</th>\n      <td>diana@amazon.com</td>\n      <td>Diana Prince</td>\n    </tr>\n    <tr>\n      <th>2</th>\n      <td>christian@wayne.com</td>\n      <td>Christian Wayne</td>\n    </tr>\n  </tbody>\n</table>\n</div>"
     },
     "metadata": {},
     "execution_count": 258
    }
   ],
   "source": [
    "df"
   ]
  },
  {
   "cell_type": "code",
   "execution_count": 259,
   "metadata": {},
   "outputs": [],
   "source": [
    "# You can also run various operations on a column and use it to make newer columns.\n",
    "# In example below, we are using the 'full_name' column, and splitting the entries on their 'space'; after that, we are assigning them to two new columns ('first', 'last')\n",
    "\n",
    "df[['first', 'last']] = df['full_name'].str.split(' ', expand = True)\n",
    "\n",
    "# In above, 'expand' ensures that the resulting splits are expanded to two new functions"
   ]
  },
  {
   "cell_type": "code",
   "execution_count": 260,
   "metadata": {},
   "outputs": [
    {
     "output_type": "execute_result",
     "data": {
      "text/plain": "                   email        full_name      first    last\n0  clark@dailyplanet.com       Clark Kent      Clark    Kent\n1       diana@amazon.com     Diana Prince      Diana  Prince\n2    christian@wayne.com  Christian Wayne  Christian   Wayne",
      "text/html": "<div>\n<style scoped>\n    .dataframe tbody tr th:only-of-type {\n        vertical-align: middle;\n    }\n\n    .dataframe tbody tr th {\n        vertical-align: top;\n    }\n\n    .dataframe thead th {\n        text-align: right;\n    }\n</style>\n<table border=\"1\" class=\"dataframe\">\n  <thead>\n    <tr style=\"text-align: right;\">\n      <th></th>\n      <th>email</th>\n      <th>full_name</th>\n      <th>first</th>\n      <th>last</th>\n    </tr>\n  </thead>\n  <tbody>\n    <tr>\n      <th>0</th>\n      <td>clark@dailyplanet.com</td>\n      <td>Clark Kent</td>\n      <td>Clark</td>\n      <td>Kent</td>\n    </tr>\n    <tr>\n      <th>1</th>\n      <td>diana@amazon.com</td>\n      <td>Diana Prince</td>\n      <td>Diana</td>\n      <td>Prince</td>\n    </tr>\n    <tr>\n      <th>2</th>\n      <td>christian@wayne.com</td>\n      <td>Christian Wayne</td>\n      <td>Christian</td>\n      <td>Wayne</td>\n    </tr>\n  </tbody>\n</table>\n</div>"
     },
     "metadata": {},
     "execution_count": 260
    }
   ],
   "source": [
    "df"
   ]
  },
  {
   "cell_type": "code",
   "execution_count": 261,
   "metadata": {},
   "outputs": [],
   "source": [
    "# You can also rearrange the sequence of columns by calling them to a list. \n",
    "\n",
    "df = df[['full_name', 'first', 'last', 'email']]"
   ]
  },
  {
   "cell_type": "code",
   "execution_count": 262,
   "metadata": {},
   "outputs": [
    {
     "output_type": "execute_result",
     "data": {
      "text/plain": "         full_name      first    last                  email\n0       Clark Kent      Clark    Kent  clark@dailyplanet.com\n1     Diana Prince      Diana  Prince       diana@amazon.com\n2  Christian Wayne  Christian   Wayne    christian@wayne.com",
      "text/html": "<div>\n<style scoped>\n    .dataframe tbody tr th:only-of-type {\n        vertical-align: middle;\n    }\n\n    .dataframe tbody tr th {\n        vertical-align: top;\n    }\n\n    .dataframe thead th {\n        text-align: right;\n    }\n</style>\n<table border=\"1\" class=\"dataframe\">\n  <thead>\n    <tr style=\"text-align: right;\">\n      <th></th>\n      <th>full_name</th>\n      <th>first</th>\n      <th>last</th>\n      <th>email</th>\n    </tr>\n  </thead>\n  <tbody>\n    <tr>\n      <th>0</th>\n      <td>Clark Kent</td>\n      <td>Clark</td>\n      <td>Kent</td>\n      <td>clark@dailyplanet.com</td>\n    </tr>\n    <tr>\n      <th>1</th>\n      <td>Diana Prince</td>\n      <td>Diana</td>\n      <td>Prince</td>\n      <td>diana@amazon.com</td>\n    </tr>\n    <tr>\n      <th>2</th>\n      <td>Christian Wayne</td>\n      <td>Christian</td>\n      <td>Wayne</td>\n      <td>christian@wayne.com</td>\n    </tr>\n  </tbody>\n</table>\n</div>"
     },
     "metadata": {},
     "execution_count": 262
    }
   ],
   "source": [
    "df"
   ]
  },
  {
   "source": [
    "#### ADDING ROWS"
   ],
   "cell_type": "markdown",
   "metadata": {}
  },
  {
   "cell_type": "code",
   "execution_count": 167,
   "metadata": {},
   "outputs": [],
   "source": [
    "# We can add data row by row, or we can also add another dataframe to another dataframe"
   ]
  },
  {
   "cell_type": "code",
   "execution_count": 269,
   "metadata": {},
   "outputs": [],
   "source": [
    "# adding single row of data\n",
    "\n",
    "df = df.append({'first': 'Tony', 'last': 'Soprano'}, ignore_index= True)"
   ]
  },
  {
   "cell_type": "code",
   "execution_count": 270,
   "metadata": {},
   "outputs": [
    {
     "output_type": "execute_result",
     "data": {
      "text/plain": "         full_name      first     last                  email\n0       Clark Kent      Clark     Kent  clark@dailyplanet.com\n1     Diana Prince      Diana   Prince       diana@amazon.com\n2  Christian Wayne  Christian    Wayne    christian@wayne.com\n3              NaN       Tony  Soprano                    NaN",
      "text/html": "<div>\n<style scoped>\n    .dataframe tbody tr th:only-of-type {\n        vertical-align: middle;\n    }\n\n    .dataframe tbody tr th {\n        vertical-align: top;\n    }\n\n    .dataframe thead th {\n        text-align: right;\n    }\n</style>\n<table border=\"1\" class=\"dataframe\">\n  <thead>\n    <tr style=\"text-align: right;\">\n      <th></th>\n      <th>full_name</th>\n      <th>first</th>\n      <th>last</th>\n      <th>email</th>\n    </tr>\n  </thead>\n  <tbody>\n    <tr>\n      <th>0</th>\n      <td>Clark Kent</td>\n      <td>Clark</td>\n      <td>Kent</td>\n      <td>clark@dailyplanet.com</td>\n    </tr>\n    <tr>\n      <th>1</th>\n      <td>Diana Prince</td>\n      <td>Diana</td>\n      <td>Prince</td>\n      <td>diana@amazon.com</td>\n    </tr>\n    <tr>\n      <th>2</th>\n      <td>Christian Wayne</td>\n      <td>Christian</td>\n      <td>Wayne</td>\n      <td>christian@wayne.com</td>\n    </tr>\n    <tr>\n      <th>3</th>\n      <td>NaN</td>\n      <td>Tony</td>\n      <td>Soprano</td>\n      <td>NaN</td>\n    </tr>\n  </tbody>\n</table>\n</div>"
     },
     "metadata": {},
     "execution_count": 270
    }
   ],
   "source": [
    "df"
   ]
  },
  {
   "cell_type": "code",
   "execution_count": 80,
   "metadata": {},
   "outputs": [],
   "source": [
    "# adding one dataframe to another"
   ]
  },
  {
   "cell_type": "code",
   "execution_count": 271,
   "metadata": {},
   "outputs": [],
   "source": [
    "# Let's first create a second dataframe\n",
    "\n",
    "more_people = {\n",
    "     \"first\": ['Endeavour', 'Saul'],\n",
    "     \"last\": ['Morse', 'Goodman'],\n",
    "     \"email\": ['morse@oxford.com', 'saul@lawyer.com']\n",
    " }\n",
    "\n",
    "df2 = pd.DataFrame(more_people)"
   ]
  },
  {
   "cell_type": "code",
   "execution_count": 272,
   "metadata": {},
   "outputs": [
    {
     "output_type": "execute_result",
     "data": {
      "text/plain": "       first     last             email\n0  Endeavour    Morse  morse@oxford.com\n1       Saul  Goodman   saul@lawyer.com",
      "text/html": "<div>\n<style scoped>\n    .dataframe tbody tr th:only-of-type {\n        vertical-align: middle;\n    }\n\n    .dataframe tbody tr th {\n        vertical-align: top;\n    }\n\n    .dataframe thead th {\n        text-align: right;\n    }\n</style>\n<table border=\"1\" class=\"dataframe\">\n  <thead>\n    <tr style=\"text-align: right;\">\n      <th></th>\n      <th>first</th>\n      <th>last</th>\n      <th>email</th>\n    </tr>\n  </thead>\n  <tbody>\n    <tr>\n      <th>0</th>\n      <td>Endeavour</td>\n      <td>Morse</td>\n      <td>morse@oxford.com</td>\n    </tr>\n    <tr>\n      <th>1</th>\n      <td>Saul</td>\n      <td>Goodman</td>\n      <td>saul@lawyer.com</td>\n    </tr>\n  </tbody>\n</table>\n</div>"
     },
     "metadata": {},
     "execution_count": 272
    }
   ],
   "source": [
    "df2"
   ]
  },
  {
   "cell_type": "code",
   "execution_count": 273,
   "metadata": {},
   "outputs": [],
   "source": [
    "# Now, we can use the append function to append the new dataframe (df2) to the existing dataframe (df)\n",
    "# We will call the resultant dataframe df3\n",
    "\n",
    "df3 = df.append(df2, ignore_index= True)\n",
    "\n",
    "# In the above, ignore_index = True ensures that the row indexes of df2 are not carried over to df3. Essentially, the new df will have fresh indexes."
   ]
  },
  {
   "cell_type": "code",
   "execution_count": 274,
   "metadata": {},
   "outputs": [
    {
     "output_type": "execute_result",
     "data": {
      "text/plain": "         full_name      first     last                  email\n0       Clark Kent      Clark     Kent  clark@dailyplanet.com\n1     Diana Prince      Diana   Prince       diana@amazon.com\n2  Christian Wayne  Christian    Wayne    christian@wayne.com\n3              NaN       Tony  Soprano                    NaN\n4              NaN  Endeavour    Morse       morse@oxford.com\n5              NaN       Saul  Goodman        saul@lawyer.com",
      "text/html": "<div>\n<style scoped>\n    .dataframe tbody tr th:only-of-type {\n        vertical-align: middle;\n    }\n\n    .dataframe tbody tr th {\n        vertical-align: top;\n    }\n\n    .dataframe thead th {\n        text-align: right;\n    }\n</style>\n<table border=\"1\" class=\"dataframe\">\n  <thead>\n    <tr style=\"text-align: right;\">\n      <th></th>\n      <th>full_name</th>\n      <th>first</th>\n      <th>last</th>\n      <th>email</th>\n    </tr>\n  </thead>\n  <tbody>\n    <tr>\n      <th>0</th>\n      <td>Clark Kent</td>\n      <td>Clark</td>\n      <td>Kent</td>\n      <td>clark@dailyplanet.com</td>\n    </tr>\n    <tr>\n      <th>1</th>\n      <td>Diana Prince</td>\n      <td>Diana</td>\n      <td>Prince</td>\n      <td>diana@amazon.com</td>\n    </tr>\n    <tr>\n      <th>2</th>\n      <td>Christian Wayne</td>\n      <td>Christian</td>\n      <td>Wayne</td>\n      <td>christian@wayne.com</td>\n    </tr>\n    <tr>\n      <th>3</th>\n      <td>NaN</td>\n      <td>Tony</td>\n      <td>Soprano</td>\n      <td>NaN</td>\n    </tr>\n    <tr>\n      <th>4</th>\n      <td>NaN</td>\n      <td>Endeavour</td>\n      <td>Morse</td>\n      <td>morse@oxford.com</td>\n    </tr>\n    <tr>\n      <th>5</th>\n      <td>NaN</td>\n      <td>Saul</td>\n      <td>Goodman</td>\n      <td>saul@lawyer.com</td>\n    </tr>\n  </tbody>\n</table>\n</div>"
     },
     "metadata": {},
     "execution_count": 274
    }
   ],
   "source": [
    "df3"
   ]
  },
  {
   "source": [
    "#### REMOVING ROWS"
   ],
   "cell_type": "markdown",
   "metadata": {}
  },
  {
   "cell_type": "code",
   "execution_count": 275,
   "metadata": {},
   "outputs": [
    {
     "output_type": "execute_result",
     "data": {
      "text/plain": "      full_name      first     last                  email\n0    Clark Kent      Clark     Kent  clark@dailyplanet.com\n1  Diana Prince      Diana   Prince       diana@amazon.com\n3           NaN       Tony  Soprano                    NaN\n4           NaN  Endeavour    Morse       morse@oxford.com\n5           NaN       Saul  Goodman        saul@lawyer.com",
      "text/html": "<div>\n<style scoped>\n    .dataframe tbody tr th:only-of-type {\n        vertical-align: middle;\n    }\n\n    .dataframe tbody tr th {\n        vertical-align: top;\n    }\n\n    .dataframe thead th {\n        text-align: right;\n    }\n</style>\n<table border=\"1\" class=\"dataframe\">\n  <thead>\n    <tr style=\"text-align: right;\">\n      <th></th>\n      <th>full_name</th>\n      <th>first</th>\n      <th>last</th>\n      <th>email</th>\n    </tr>\n  </thead>\n  <tbody>\n    <tr>\n      <th>0</th>\n      <td>Clark Kent</td>\n      <td>Clark</td>\n      <td>Kent</td>\n      <td>clark@dailyplanet.com</td>\n    </tr>\n    <tr>\n      <th>1</th>\n      <td>Diana Prince</td>\n      <td>Diana</td>\n      <td>Prince</td>\n      <td>diana@amazon.com</td>\n    </tr>\n    <tr>\n      <th>3</th>\n      <td>NaN</td>\n      <td>Tony</td>\n      <td>Soprano</td>\n      <td>NaN</td>\n    </tr>\n    <tr>\n      <th>4</th>\n      <td>NaN</td>\n      <td>Endeavour</td>\n      <td>Morse</td>\n      <td>morse@oxford.com</td>\n    </tr>\n    <tr>\n      <th>5</th>\n      <td>NaN</td>\n      <td>Saul</td>\n      <td>Goodman</td>\n      <td>saul@lawyer.com</td>\n    </tr>\n  </tbody>\n</table>\n</div>"
     },
     "metadata": {},
     "execution_count": 275
    }
   ],
   "source": [
    "# You can remove a specific row by the drop function.\n",
    "# The index is the index of the row to be removed.\n",
    "\n",
    "df3.drop(index = 2)"
   ]
  },
  {
   "cell_type": "code",
   "execution_count": 276,
   "metadata": {},
   "outputs": [
    {
     "output_type": "execute_result",
     "data": {
      "text/plain": "         full_name      first     last                  email\n0       Clark Kent      Clark     Kent  clark@dailyplanet.com\n1     Diana Prince      Diana   Prince       diana@amazon.com\n2  Christian Wayne  Christian    Wayne    christian@wayne.com\n4              NaN  Endeavour    Morse       morse@oxford.com\n5              NaN       Saul  Goodman        saul@lawyer.com",
      "text/html": "<div>\n<style scoped>\n    .dataframe tbody tr th:only-of-type {\n        vertical-align: middle;\n    }\n\n    .dataframe tbody tr th {\n        vertical-align: top;\n    }\n\n    .dataframe thead th {\n        text-align: right;\n    }\n</style>\n<table border=\"1\" class=\"dataframe\">\n  <thead>\n    <tr style=\"text-align: right;\">\n      <th></th>\n      <th>full_name</th>\n      <th>first</th>\n      <th>last</th>\n      <th>email</th>\n    </tr>\n  </thead>\n  <tbody>\n    <tr>\n      <th>0</th>\n      <td>Clark Kent</td>\n      <td>Clark</td>\n      <td>Kent</td>\n      <td>clark@dailyplanet.com</td>\n    </tr>\n    <tr>\n      <th>1</th>\n      <td>Diana Prince</td>\n      <td>Diana</td>\n      <td>Prince</td>\n      <td>diana@amazon.com</td>\n    </tr>\n    <tr>\n      <th>2</th>\n      <td>Christian Wayne</td>\n      <td>Christian</td>\n      <td>Wayne</td>\n      <td>christian@wayne.com</td>\n    </tr>\n    <tr>\n      <th>4</th>\n      <td>NaN</td>\n      <td>Endeavour</td>\n      <td>Morse</td>\n      <td>morse@oxford.com</td>\n    </tr>\n    <tr>\n      <th>5</th>\n      <td>NaN</td>\n      <td>Saul</td>\n      <td>Goodman</td>\n      <td>saul@lawyer.com</td>\n    </tr>\n  </tbody>\n</table>\n</div>"
     },
     "metadata": {},
     "execution_count": 276
    }
   ],
   "source": [
    "# To remove multiple rows that meet a certain condition, we need to first define a filter; this behaviour is different from when we wanted to add data to cells (in which case it wasn't possible via filter --> led to an index or key error)\n",
    "# Then we can pass on the filter to the drop function, along with a call to the dot.index attribute\n",
    "\n",
    "filt3 = df3['last'] == 'Soprano'\n",
    "\n",
    "df3.drop(index = df[filt3].index)"
   ]
  },
  {
   "source": [
    "#### SORTING DATA"
   ],
   "cell_type": "markdown",
   "metadata": {}
  },
  {
   "cell_type": "code",
   "execution_count": 277,
   "metadata": {},
   "outputs": [
    {
     "output_type": "execute_result",
     "data": {
      "text/plain": "         full_name      first     last                  email\n5              NaN       Saul  Goodman        saul@lawyer.com\n0       Clark Kent      Clark     Kent  clark@dailyplanet.com\n4              NaN  Endeavour    Morse       morse@oxford.com\n1     Diana Prince      Diana   Prince       diana@amazon.com\n3              NaN       Tony  Soprano                    NaN\n2  Christian Wayne  Christian    Wayne    christian@wayne.com",
      "text/html": "<div>\n<style scoped>\n    .dataframe tbody tr th:only-of-type {\n        vertical-align: middle;\n    }\n\n    .dataframe tbody tr th {\n        vertical-align: top;\n    }\n\n    .dataframe thead th {\n        text-align: right;\n    }\n</style>\n<table border=\"1\" class=\"dataframe\">\n  <thead>\n    <tr style=\"text-align: right;\">\n      <th></th>\n      <th>full_name</th>\n      <th>first</th>\n      <th>last</th>\n      <th>email</th>\n    </tr>\n  </thead>\n  <tbody>\n    <tr>\n      <th>5</th>\n      <td>NaN</td>\n      <td>Saul</td>\n      <td>Goodman</td>\n      <td>saul@lawyer.com</td>\n    </tr>\n    <tr>\n      <th>0</th>\n      <td>Clark Kent</td>\n      <td>Clark</td>\n      <td>Kent</td>\n      <td>clark@dailyplanet.com</td>\n    </tr>\n    <tr>\n      <th>4</th>\n      <td>NaN</td>\n      <td>Endeavour</td>\n      <td>Morse</td>\n      <td>morse@oxford.com</td>\n    </tr>\n    <tr>\n      <th>1</th>\n      <td>Diana Prince</td>\n      <td>Diana</td>\n      <td>Prince</td>\n      <td>diana@amazon.com</td>\n    </tr>\n    <tr>\n      <th>3</th>\n      <td>NaN</td>\n      <td>Tony</td>\n      <td>Soprano</td>\n      <td>NaN</td>\n    </tr>\n    <tr>\n      <th>2</th>\n      <td>Christian Wayne</td>\n      <td>Christian</td>\n      <td>Wayne</td>\n      <td>christian@wayne.com</td>\n    </tr>\n  </tbody>\n</table>\n</div>"
     },
     "metadata": {},
     "execution_count": 277
    }
   ],
   "source": [
    "# we can use the sort_values function to sort dataframe by a desired label/ column. The function takes the filter column as an argument.\n",
    "# below, we are using the 'last' label to filter the dataframe\n",
    "\n",
    "df3.sort_values(by='last')"
   ]
  },
  {
   "cell_type": "code",
   "execution_count": 278,
   "metadata": {},
   "outputs": [
    {
     "output_type": "execute_result",
     "data": {
      "text/plain": "         full_name      first     last                  email\n2  Christian Wayne  Christian    Wayne    christian@wayne.com\n3              NaN       Tony  Soprano                    NaN\n1     Diana Prince      Diana   Prince       diana@amazon.com\n4              NaN  Endeavour    Morse       morse@oxford.com\n0       Clark Kent      Clark     Kent  clark@dailyplanet.com\n5              NaN       Saul  Goodman        saul@lawyer.com",
      "text/html": "<div>\n<style scoped>\n    .dataframe tbody tr th:only-of-type {\n        vertical-align: middle;\n    }\n\n    .dataframe tbody tr th {\n        vertical-align: top;\n    }\n\n    .dataframe thead th {\n        text-align: right;\n    }\n</style>\n<table border=\"1\" class=\"dataframe\">\n  <thead>\n    <tr style=\"text-align: right;\">\n      <th></th>\n      <th>full_name</th>\n      <th>first</th>\n      <th>last</th>\n      <th>email</th>\n    </tr>\n  </thead>\n  <tbody>\n    <tr>\n      <th>2</th>\n      <td>Christian Wayne</td>\n      <td>Christian</td>\n      <td>Wayne</td>\n      <td>christian@wayne.com</td>\n    </tr>\n    <tr>\n      <th>3</th>\n      <td>NaN</td>\n      <td>Tony</td>\n      <td>Soprano</td>\n      <td>NaN</td>\n    </tr>\n    <tr>\n      <th>1</th>\n      <td>Diana Prince</td>\n      <td>Diana</td>\n      <td>Prince</td>\n      <td>diana@amazon.com</td>\n    </tr>\n    <tr>\n      <th>4</th>\n      <td>NaN</td>\n      <td>Endeavour</td>\n      <td>Morse</td>\n      <td>morse@oxford.com</td>\n    </tr>\n    <tr>\n      <th>0</th>\n      <td>Clark Kent</td>\n      <td>Clark</td>\n      <td>Kent</td>\n      <td>clark@dailyplanet.com</td>\n    </tr>\n    <tr>\n      <th>5</th>\n      <td>NaN</td>\n      <td>Saul</td>\n      <td>Goodman</td>\n      <td>saul@lawyer.com</td>\n    </tr>\n  </tbody>\n</table>\n</div>"
     },
     "metadata": {},
     "execution_count": 278
    }
   ],
   "source": [
    "# By default, sort is done in ascending order. If you need to reverse this, another argument needs to be passed. \n",
    "\n",
    "df3.sort_values(by='last', ascending = False)"
   ]
  },
  {
   "cell_type": "code",
   "execution_count": 279,
   "metadata": {},
   "outputs": [
    {
     "output_type": "execute_result",
     "data": {
      "text/plain": "         full_name      first     last                  email\n2  Christian Wayne  Christian    Wayne    christian@wayne.com\n3              NaN       Tony  Soprano                    NaN\n1     Diana Prince      Diana   Prince       diana@amazon.com\n4              NaN  Endeavour    Morse       morse@oxford.com\n0       Clark Kent      Clark     Kent  clark@dailyplanet.com\n5              NaN       Saul  Goodman        saul@lawyer.com",
      "text/html": "<div>\n<style scoped>\n    .dataframe tbody tr th:only-of-type {\n        vertical-align: middle;\n    }\n\n    .dataframe tbody tr th {\n        vertical-align: top;\n    }\n\n    .dataframe thead th {\n        text-align: right;\n    }\n</style>\n<table border=\"1\" class=\"dataframe\">\n  <thead>\n    <tr style=\"text-align: right;\">\n      <th></th>\n      <th>full_name</th>\n      <th>first</th>\n      <th>last</th>\n      <th>email</th>\n    </tr>\n  </thead>\n  <tbody>\n    <tr>\n      <th>2</th>\n      <td>Christian Wayne</td>\n      <td>Christian</td>\n      <td>Wayne</td>\n      <td>christian@wayne.com</td>\n    </tr>\n    <tr>\n      <th>3</th>\n      <td>NaN</td>\n      <td>Tony</td>\n      <td>Soprano</td>\n      <td>NaN</td>\n    </tr>\n    <tr>\n      <th>1</th>\n      <td>Diana Prince</td>\n      <td>Diana</td>\n      <td>Prince</td>\n      <td>diana@amazon.com</td>\n    </tr>\n    <tr>\n      <th>4</th>\n      <td>NaN</td>\n      <td>Endeavour</td>\n      <td>Morse</td>\n      <td>morse@oxford.com</td>\n    </tr>\n    <tr>\n      <th>0</th>\n      <td>Clark Kent</td>\n      <td>Clark</td>\n      <td>Kent</td>\n      <td>clark@dailyplanet.com</td>\n    </tr>\n    <tr>\n      <th>5</th>\n      <td>NaN</td>\n      <td>Saul</td>\n      <td>Goodman</td>\n      <td>saul@lawyer.com</td>\n    </tr>\n  </tbody>\n</table>\n</div>"
     },
     "metadata": {},
     "execution_count": 279
    }
   ],
   "source": [
    "# You can also sort by multiple columns (one after the other) by passing a list to 'by:'\n",
    "# If you want to sort one column by descending and one by ascending, you can similarly pass a list of boolean values to the 'ascending' argument. \n",
    "\n",
    "df3.sort_values(by = ['last', 'first'], ascending = [False, True])"
   ]
  },
  {
   "cell_type": "code",
   "execution_count": 280,
   "metadata": {},
   "outputs": [
    {
     "output_type": "execute_result",
     "data": {
      "text/plain": "         full_name      first     last                  email\n0       Clark Kent      Clark     Kent  clark@dailyplanet.com\n1     Diana Prince      Diana   Prince       diana@amazon.com\n2  Christian Wayne  Christian    Wayne    christian@wayne.com\n3              NaN       Tony  Soprano                    NaN\n4              NaN  Endeavour    Morse       morse@oxford.com\n5              NaN       Saul  Goodman        saul@lawyer.com",
      "text/html": "<div>\n<style scoped>\n    .dataframe tbody tr th:only-of-type {\n        vertical-align: middle;\n    }\n\n    .dataframe tbody tr th {\n        vertical-align: top;\n    }\n\n    .dataframe thead th {\n        text-align: right;\n    }\n</style>\n<table border=\"1\" class=\"dataframe\">\n  <thead>\n    <tr style=\"text-align: right;\">\n      <th></th>\n      <th>full_name</th>\n      <th>first</th>\n      <th>last</th>\n      <th>email</th>\n    </tr>\n  </thead>\n  <tbody>\n    <tr>\n      <th>0</th>\n      <td>Clark Kent</td>\n      <td>Clark</td>\n      <td>Kent</td>\n      <td>clark@dailyplanet.com</td>\n    </tr>\n    <tr>\n      <th>1</th>\n      <td>Diana Prince</td>\n      <td>Diana</td>\n      <td>Prince</td>\n      <td>diana@amazon.com</td>\n    </tr>\n    <tr>\n      <th>2</th>\n      <td>Christian Wayne</td>\n      <td>Christian</td>\n      <td>Wayne</td>\n      <td>christian@wayne.com</td>\n    </tr>\n    <tr>\n      <th>3</th>\n      <td>NaN</td>\n      <td>Tony</td>\n      <td>Soprano</td>\n      <td>NaN</td>\n    </tr>\n    <tr>\n      <th>4</th>\n      <td>NaN</td>\n      <td>Endeavour</td>\n      <td>Morse</td>\n      <td>morse@oxford.com</td>\n    </tr>\n    <tr>\n      <th>5</th>\n      <td>NaN</td>\n      <td>Saul</td>\n      <td>Goodman</td>\n      <td>saul@lawyer.com</td>\n    </tr>\n  </tbody>\n</table>\n</div>"
     },
     "metadata": {},
     "execution_count": 280
    }
   ],
   "source": [
    "# to get back to original state where the indices are sorted\n",
    "\n",
    "df3.sort_index()"
   ]
  },
  {
   "cell_type": "code",
   "execution_count": 281,
   "metadata": {},
   "outputs": [
    {
     "output_type": "execute_result",
     "data": {
      "text/plain": "5    Goodman\n0       Kent\n4      Morse\n1     Prince\n3    Soprano\n2      Wayne\nName: last, dtype: object"
     },
     "metadata": {},
     "execution_count": 281
    }
   ],
   "source": [
    "# You can also sort a single series by calling it using the usual bracket notation and then using the sort_values() function\n",
    "\n",
    "df3['last'].sort_values()"
   ]
  },
  {
   "source": [
    "### CLEANING DATA"
   ],
   "cell_type": "markdown",
   "metadata": {}
  },
  {
   "cell_type": "code",
   "execution_count": 282,
   "metadata": {},
   "outputs": [
    {
     "output_type": "execute_result",
     "data": {
      "text/plain": "         full_name      first     last                  email\n0       Clark Kent      Clark     Kent  clark@dailyplanet.com\n1     Diana Prince      Diana   Prince       diana@amazon.com\n2  Christian Wayne  Christian    Wayne    christian@wayne.com\n3              NaN       Tony  Soprano                    NaN\n4              NaN  Endeavour    Morse       morse@oxford.com\n5              NaN       Saul  Goodman        saul@lawyer.com",
      "text/html": "<div>\n<style scoped>\n    .dataframe tbody tr th:only-of-type {\n        vertical-align: middle;\n    }\n\n    .dataframe tbody tr th {\n        vertical-align: top;\n    }\n\n    .dataframe thead th {\n        text-align: right;\n    }\n</style>\n<table border=\"1\" class=\"dataframe\">\n  <thead>\n    <tr style=\"text-align: right;\">\n      <th></th>\n      <th>full_name</th>\n      <th>first</th>\n      <th>last</th>\n      <th>email</th>\n    </tr>\n  </thead>\n  <tbody>\n    <tr>\n      <th>0</th>\n      <td>Clark Kent</td>\n      <td>Clark</td>\n      <td>Kent</td>\n      <td>clark@dailyplanet.com</td>\n    </tr>\n    <tr>\n      <th>1</th>\n      <td>Diana Prince</td>\n      <td>Diana</td>\n      <td>Prince</td>\n      <td>diana@amazon.com</td>\n    </tr>\n    <tr>\n      <th>2</th>\n      <td>Christian Wayne</td>\n      <td>Christian</td>\n      <td>Wayne</td>\n      <td>christian@wayne.com</td>\n    </tr>\n    <tr>\n      <th>3</th>\n      <td>NaN</td>\n      <td>Tony</td>\n      <td>Soprano</td>\n      <td>NaN</td>\n    </tr>\n    <tr>\n      <th>4</th>\n      <td>NaN</td>\n      <td>Endeavour</td>\n      <td>Morse</td>\n      <td>morse@oxford.com</td>\n    </tr>\n    <tr>\n      <th>5</th>\n      <td>NaN</td>\n      <td>Saul</td>\n      <td>Goodman</td>\n      <td>saul@lawyer.com</td>\n    </tr>\n  </tbody>\n</table>\n</div>"
     },
     "metadata": {},
     "execution_count": 282
    }
   ],
   "source": [
    "# Below is our latest dataframe. You'll notice that there are a lot of NaN values here. When doing analysis, you might want to clean the table up.\n",
    "# NaN ---> 'Not a Number'\n",
    "\n",
    "df3"
   ]
  },
  {
   "cell_type": "code",
   "execution_count": 283,
   "metadata": {},
   "outputs": [
    {
     "output_type": "execute_result",
     "data": {
      "text/plain": "         full_name      first    last                  email\n0       Clark Kent      Clark    Kent  clark@dailyplanet.com\n1     Diana Prince      Diana  Prince       diana@amazon.com\n2  Christian Wayne  Christian   Wayne    christian@wayne.com",
      "text/html": "<div>\n<style scoped>\n    .dataframe tbody tr th:only-of-type {\n        vertical-align: middle;\n    }\n\n    .dataframe tbody tr th {\n        vertical-align: top;\n    }\n\n    .dataframe thead th {\n        text-align: right;\n    }\n</style>\n<table border=\"1\" class=\"dataframe\">\n  <thead>\n    <tr style=\"text-align: right;\">\n      <th></th>\n      <th>full_name</th>\n      <th>first</th>\n      <th>last</th>\n      <th>email</th>\n    </tr>\n  </thead>\n  <tbody>\n    <tr>\n      <th>0</th>\n      <td>Clark Kent</td>\n      <td>Clark</td>\n      <td>Kent</td>\n      <td>clark@dailyplanet.com</td>\n    </tr>\n    <tr>\n      <th>1</th>\n      <td>Diana Prince</td>\n      <td>Diana</td>\n      <td>Prince</td>\n      <td>diana@amazon.com</td>\n    </tr>\n    <tr>\n      <th>2</th>\n      <td>Christian Wayne</td>\n      <td>Christian</td>\n      <td>Wayne</td>\n      <td>christian@wayne.com</td>\n    </tr>\n  </tbody>\n</table>\n</div>"
     },
     "metadata": {},
     "execution_count": 283
    }
   ],
   "source": [
    "# If you want to remove all rows that have NaN value from your dataframe, you can do so by using the dropna function\n",
    "\n",
    "df3.dropna()"
   ]
  },
  {
   "cell_type": "code",
   "execution_count": 284,
   "metadata": {},
   "outputs": [
    {
     "output_type": "execute_result",
     "data": {
      "text/plain": "       first     last\n0      Clark     Kent\n1      Diana   Prince\n2  Christian    Wayne\n3       Tony  Soprano\n4  Endeavour    Morse\n5       Saul  Goodman",
      "text/html": "<div>\n<style scoped>\n    .dataframe tbody tr th:only-of-type {\n        vertical-align: middle;\n    }\n\n    .dataframe tbody tr th {\n        vertical-align: top;\n    }\n\n    .dataframe thead th {\n        text-align: right;\n    }\n</style>\n<table border=\"1\" class=\"dataframe\">\n  <thead>\n    <tr style=\"text-align: right;\">\n      <th></th>\n      <th>first</th>\n      <th>last</th>\n    </tr>\n  </thead>\n  <tbody>\n    <tr>\n      <th>0</th>\n      <td>Clark</td>\n      <td>Kent</td>\n    </tr>\n    <tr>\n      <th>1</th>\n      <td>Diana</td>\n      <td>Prince</td>\n    </tr>\n    <tr>\n      <th>2</th>\n      <td>Christian</td>\n      <td>Wayne</td>\n    </tr>\n    <tr>\n      <th>3</th>\n      <td>Tony</td>\n      <td>Soprano</td>\n    </tr>\n    <tr>\n      <th>4</th>\n      <td>Endeavour</td>\n      <td>Morse</td>\n    </tr>\n    <tr>\n      <th>5</th>\n      <td>Saul</td>\n      <td>Goodman</td>\n    </tr>\n  </tbody>\n</table>\n</div>"
     },
     "metadata": {},
     "execution_count": 284
    }
   ],
   "source": [
    "# Instead of dropping rows, if you want to drop columns that have NaN value, you can do so by using the argument 'axis = 'columns''\n",
    "# Below, the 'how' argument decides how pandas decides to drop a column. 'Any' means that a column that has ANY NaN value will be dropped. \n",
    "\n",
    "df3.dropna(axis = 'columns', how='any')"
   ]
  },
  {
   "cell_type": "code",
   "execution_count": 285,
   "metadata": {},
   "outputs": [
    {
     "output_type": "execute_result",
     "data": {
      "text/plain": "         full_name      first     last                  email\n0       Clark Kent      Clark     Kent  clark@dailyplanet.com\n1     Diana Prince      Diana   Prince       diana@amazon.com\n2  Christian Wayne  Christian    Wayne    christian@wayne.com\n3              NaN       Tony  Soprano                    NaN\n4              NaN  Endeavour    Morse       morse@oxford.com\n5              NaN       Saul  Goodman        saul@lawyer.com",
      "text/html": "<div>\n<style scoped>\n    .dataframe tbody tr th:only-of-type {\n        vertical-align: middle;\n    }\n\n    .dataframe tbody tr th {\n        vertical-align: top;\n    }\n\n    .dataframe thead th {\n        text-align: right;\n    }\n</style>\n<table border=\"1\" class=\"dataframe\">\n  <thead>\n    <tr style=\"text-align: right;\">\n      <th></th>\n      <th>full_name</th>\n      <th>first</th>\n      <th>last</th>\n      <th>email</th>\n    </tr>\n  </thead>\n  <tbody>\n    <tr>\n      <th>0</th>\n      <td>Clark Kent</td>\n      <td>Clark</td>\n      <td>Kent</td>\n      <td>clark@dailyplanet.com</td>\n    </tr>\n    <tr>\n      <th>1</th>\n      <td>Diana Prince</td>\n      <td>Diana</td>\n      <td>Prince</td>\n      <td>diana@amazon.com</td>\n    </tr>\n    <tr>\n      <th>2</th>\n      <td>Christian Wayne</td>\n      <td>Christian</td>\n      <td>Wayne</td>\n      <td>christian@wayne.com</td>\n    </tr>\n    <tr>\n      <th>3</th>\n      <td>NaN</td>\n      <td>Tony</td>\n      <td>Soprano</td>\n      <td>NaN</td>\n    </tr>\n    <tr>\n      <th>4</th>\n      <td>NaN</td>\n      <td>Endeavour</td>\n      <td>Morse</td>\n      <td>morse@oxford.com</td>\n    </tr>\n    <tr>\n      <th>5</th>\n      <td>NaN</td>\n      <td>Saul</td>\n      <td>Goodman</td>\n      <td>saul@lawyer.com</td>\n    </tr>\n  </tbody>\n</table>\n</div>"
     },
     "metadata": {},
     "execution_count": 285
    }
   ],
   "source": [
    "# Instead of 'any', if we pass 'all' to 'how', it will only drop columns that have ALL values as NaN; in our example, there is no such column; so nothing is dropped. \n",
    "\n",
    "df3.dropna(axis = 'columns', how='all')"
   ]
  },
  {
   "cell_type": "code",
   "execution_count": 286,
   "metadata": {},
   "outputs": [
    {
     "output_type": "execute_result",
     "data": {
      "text/plain": "         full_name      first    last                  email\n0       Clark Kent      Clark    Kent  clark@dailyplanet.com\n1     Diana Prince      Diana  Prince       diana@amazon.com\n2  Christian Wayne  Christian   Wayne    christian@wayne.com",
      "text/html": "<div>\n<style scoped>\n    .dataframe tbody tr th:only-of-type {\n        vertical-align: middle;\n    }\n\n    .dataframe tbody tr th {\n        vertical-align: top;\n    }\n\n    .dataframe thead th {\n        text-align: right;\n    }\n</style>\n<table border=\"1\" class=\"dataframe\">\n  <thead>\n    <tr style=\"text-align: right;\">\n      <th></th>\n      <th>full_name</th>\n      <th>first</th>\n      <th>last</th>\n      <th>email</th>\n    </tr>\n  </thead>\n  <tbody>\n    <tr>\n      <th>0</th>\n      <td>Clark Kent</td>\n      <td>Clark</td>\n      <td>Kent</td>\n      <td>clark@dailyplanet.com</td>\n    </tr>\n    <tr>\n      <th>1</th>\n      <td>Diana Prince</td>\n      <td>Diana</td>\n      <td>Prince</td>\n      <td>diana@amazon.com</td>\n    </tr>\n    <tr>\n      <th>2</th>\n      <td>Christian Wayne</td>\n      <td>Christian</td>\n      <td>Wayne</td>\n      <td>christian@wayne.com</td>\n    </tr>\n  </tbody>\n</table>\n</div>"
     },
     "metadata": {},
     "execution_count": 286
    }
   ],
   "source": [
    "# if we want to drop rows that have NaN only in a specific column, we can use argument called 'subset'\n",
    "# In the below example, only the rows that have NaN in the full_name column will be dropped\n",
    "\n",
    "df3.dropna(axis = 'index', how = 'all', subset = ['full_name'])"
   ]
  },
  {
   "source": [
    "### HANDLING CUSTOM MISSING VALUES"
   ],
   "cell_type": "markdown",
   "metadata": {}
  },
  {
   "cell_type": "code",
   "execution_count": null,
   "metadata": {},
   "outputs": [],
   "source": [
    "# Depending on how you've sourced your data, sometimes some cells might have custom NaN values like 'missing' or 'na'. It's important to handle these so that your analysis doesn't go wonky. "
   ]
  },
  {
   "cell_type": "code",
   "execution_count": 287,
   "metadata": {},
   "outputs": [
    {
     "output_type": "execute_result",
     "data": {
      "text/plain": "         full_name      first     last                  email\n0       Clark Kent      Clark     Kent  clark@dailyplanet.com\n1     Diana Prince      Diana   Prince       diana@amazon.com\n2  Christian Wayne  Christian    Wayne    christian@wayne.com\n3              NaN       Tony  Soprano                    NaN\n4              NaN  Endeavour    Morse       morse@oxford.com\n5              NaN       Saul  Goodman        saul@lawyer.com",
      "text/html": "<div>\n<style scoped>\n    .dataframe tbody tr th:only-of-type {\n        vertical-align: middle;\n    }\n\n    .dataframe tbody tr th {\n        vertical-align: top;\n    }\n\n    .dataframe thead th {\n        text-align: right;\n    }\n</style>\n<table border=\"1\" class=\"dataframe\">\n  <thead>\n    <tr style=\"text-align: right;\">\n      <th></th>\n      <th>full_name</th>\n      <th>first</th>\n      <th>last</th>\n      <th>email</th>\n    </tr>\n  </thead>\n  <tbody>\n    <tr>\n      <th>0</th>\n      <td>Clark Kent</td>\n      <td>Clark</td>\n      <td>Kent</td>\n      <td>clark@dailyplanet.com</td>\n    </tr>\n    <tr>\n      <th>1</th>\n      <td>Diana Prince</td>\n      <td>Diana</td>\n      <td>Prince</td>\n      <td>diana@amazon.com</td>\n    </tr>\n    <tr>\n      <th>2</th>\n      <td>Christian Wayne</td>\n      <td>Christian</td>\n      <td>Wayne</td>\n      <td>christian@wayne.com</td>\n    </tr>\n    <tr>\n      <th>3</th>\n      <td>NaN</td>\n      <td>Tony</td>\n      <td>Soprano</td>\n      <td>NaN</td>\n    </tr>\n    <tr>\n      <th>4</th>\n      <td>NaN</td>\n      <td>Endeavour</td>\n      <td>Morse</td>\n      <td>morse@oxford.com</td>\n    </tr>\n    <tr>\n      <th>5</th>\n      <td>NaN</td>\n      <td>Saul</td>\n      <td>Goodman</td>\n      <td>saul@lawyer.com</td>\n    </tr>\n  </tbody>\n</table>\n</div>"
     },
     "metadata": {},
     "execution_count": 287
    }
   ],
   "source": [
    "# to replace a custom missing value with na, we can use the numpy function np.nan\n",
    "\n",
    "import numpy as np\n",
    "\n",
    "df3.replace('NA', np.nan)\n",
    "df3.replace('MISSING', np.nan)\n",
    "\n",
    "# In the below dataframe, this doesn't change anything because there were no cells with 'NA' or 'MISSING'. If there were, it would have changed to NaN"
   ]
  },
  {
   "cell_type": "code",
   "execution_count": 288,
   "metadata": {},
   "outputs": [
    {
     "output_type": "execute_result",
     "data": {
      "text/plain": "   full_name  first   last  email\n0      False  False  False  False\n1      False  False  False  False\n2      False  False  False  False\n3       True  False  False   True\n4       True  False  False  False\n5       True  False  False  False",
      "text/html": "<div>\n<style scoped>\n    .dataframe tbody tr th:only-of-type {\n        vertical-align: middle;\n    }\n\n    .dataframe tbody tr th {\n        vertical-align: top;\n    }\n\n    .dataframe thead th {\n        text-align: right;\n    }\n</style>\n<table border=\"1\" class=\"dataframe\">\n  <thead>\n    <tr style=\"text-align: right;\">\n      <th></th>\n      <th>full_name</th>\n      <th>first</th>\n      <th>last</th>\n      <th>email</th>\n    </tr>\n  </thead>\n  <tbody>\n    <tr>\n      <th>0</th>\n      <td>False</td>\n      <td>False</td>\n      <td>False</td>\n      <td>False</td>\n    </tr>\n    <tr>\n      <th>1</th>\n      <td>False</td>\n      <td>False</td>\n      <td>False</td>\n      <td>False</td>\n    </tr>\n    <tr>\n      <th>2</th>\n      <td>False</td>\n      <td>False</td>\n      <td>False</td>\n      <td>False</td>\n    </tr>\n    <tr>\n      <th>3</th>\n      <td>True</td>\n      <td>False</td>\n      <td>False</td>\n      <td>True</td>\n    </tr>\n    <tr>\n      <th>4</th>\n      <td>True</td>\n      <td>False</td>\n      <td>False</td>\n      <td>False</td>\n    </tr>\n    <tr>\n      <th>5</th>\n      <td>True</td>\n      <td>False</td>\n      <td>False</td>\n      <td>False</td>\n    </tr>\n  </tbody>\n</table>\n</div>"
     },
     "metadata": {},
     "execution_count": 288
    }
   ],
   "source": [
    "# To quickly check which cells have NaN value, we can use the isna() function\n",
    "# This returns a sort of mask value of NaN cells\n",
    "\n",
    "df3.isna() # returns a mask of NA values."
   ]
  },
  {
   "cell_type": "code",
   "execution_count": 289,
   "metadata": {},
   "outputs": [
    {
     "output_type": "execute_result",
     "data": {
      "text/plain": "         full_name      first     last                  email\n0       Clark Kent      Clark     Kent  clark@dailyplanet.com\n1     Diana Prince      Diana   Prince       diana@amazon.com\n2  Christian Wayne  Christian    Wayne    christian@wayne.com\n3          MISSING       Tony  Soprano                MISSING\n4          MISSING  Endeavour    Morse       morse@oxford.com\n5          MISSING       Saul  Goodman        saul@lawyer.com",
      "text/html": "<div>\n<style scoped>\n    .dataframe tbody tr th:only-of-type {\n        vertical-align: middle;\n    }\n\n    .dataframe tbody tr th {\n        vertical-align: top;\n    }\n\n    .dataframe thead th {\n        text-align: right;\n    }\n</style>\n<table border=\"1\" class=\"dataframe\">\n  <thead>\n    <tr style=\"text-align: right;\">\n      <th></th>\n      <th>full_name</th>\n      <th>first</th>\n      <th>last</th>\n      <th>email</th>\n    </tr>\n  </thead>\n  <tbody>\n    <tr>\n      <th>0</th>\n      <td>Clark Kent</td>\n      <td>Clark</td>\n      <td>Kent</td>\n      <td>clark@dailyplanet.com</td>\n    </tr>\n    <tr>\n      <th>1</th>\n      <td>Diana Prince</td>\n      <td>Diana</td>\n      <td>Prince</td>\n      <td>diana@amazon.com</td>\n    </tr>\n    <tr>\n      <th>2</th>\n      <td>Christian Wayne</td>\n      <td>Christian</td>\n      <td>Wayne</td>\n      <td>christian@wayne.com</td>\n    </tr>\n    <tr>\n      <th>3</th>\n      <td>MISSING</td>\n      <td>Tony</td>\n      <td>Soprano</td>\n      <td>MISSING</td>\n    </tr>\n    <tr>\n      <th>4</th>\n      <td>MISSING</td>\n      <td>Endeavour</td>\n      <td>Morse</td>\n      <td>morse@oxford.com</td>\n    </tr>\n    <tr>\n      <th>5</th>\n      <td>MISSING</td>\n      <td>Saul</td>\n      <td>Goodman</td>\n      <td>saul@lawyer.com</td>\n    </tr>\n  </tbody>\n</table>\n</div>"
     },
     "metadata": {},
     "execution_count": 289
    }
   ],
   "source": [
    "# We can also choose to fill ALL NaN cells with a custom value in one go using the fillna() function.\n",
    "\n",
    "df3.fillna('MISSING')"
   ]
  },
  {
   "cell_type": "code",
   "execution_count": 290,
   "metadata": {},
   "outputs": [
    {
     "output_type": "execute_result",
     "data": {
      "text/plain": "full_name    object\nfirst        object\nlast         object\nemail        object\ndtype: object"
     },
     "metadata": {},
     "execution_count": 290
    }
   ],
   "source": [
    "# In order to carry out aggregate analysis, and derive useful values like mean, median, etc., it's important that you have data in the right 'type'. Else, the resultant aggregate values will be erroneous. \n",
    "# A quick way to find out data types is by using the dtypes attribute. \n",
    "\n",
    "df3.dtypes"
   ]
  },
  {
   "cell_type": "code",
   "execution_count": 291,
   "metadata": {},
   "outputs": [
    {
     "output_type": "execute_result",
     "data": {
      "text/plain": "0    clark@dailyplanet.com\n1         diana@amazon.com\n2      christian@wayne.com\n3                      nan\n4         morse@oxford.com\n5          saul@lawyer.com\nName: email, dtype: object"
     },
     "metadata": {},
     "execution_count": 291
    }
   ],
   "source": [
    "# Sometimes strings might look like int in a dataframe. In order to extract aggregate data, you need to convert to int or float. \n",
    "# if it has missing values, you need to convert to float since NaN is actually a float data-type\n",
    "# Here's how you can change data-type for a particular column\n",
    "\n",
    "df3['email'].astype(str) # this will convert the specific column to string"
   ]
  },
  {
   "source": [
    "### NUMERICAL OPERATIONS"
   ],
   "cell_type": "markdown",
   "metadata": {}
  },
  {
   "cell_type": "code",
   "execution_count": 359,
   "metadata": {},
   "outputs": [],
   "source": [
    "# Pandas allows you to do a lot of numerical operations.\n",
    "# But for that, let's first create some numerical data. Then we will play around with it. \n",
    "\n",
    "people = {\n",
    "     \"first\": ['Clark', 'Diana', 'Bruce', 'Endeavour', 'Tony', 'Saul'],\n",
    "     \"last\": [\"Kent\", \"Prince\", \"Wayne\", 'Morse', 'Soprano', 'Goodman'],\n",
    "     \"age\": ['37', '35', '46', '40', '61', '57'],\n",
    "     \"physical_strength\": ['90', '88', '70', '20', '45', '35'],\n",
    "     \"mental_acuity\": ['75', '80', '85', '95', '60', '90'],\n",
    "     \"height\": ['193', '178', '183', '177', '186', '175'],\n",
    "     \"person_type\": ['Super', 'Super', 'Super', 'Human', 'Human', 'Human'],\n",
    "     \"alive\": ['Yes', 'Yes', 'Yes', 'No', 'No', 'Yes']\n",
    " }\n",
    "\n",
    "df4 = pd.DataFrame(people)\n",
    "\n",
    "# Do note that we are defining the above DataFrame via a dictionary by choice; easier way to do this would be to make the table in excel, save it as csv, and then import it to pandas. Command for that would be df4 = pd.read_csv('<filename>'). Here, we are assuming that the CSV file is in the same folder as your current working file. If not, you will also need to include relative path to the file. "
   ]
  },
  {
   "cell_type": "code",
   "execution_count": 360,
   "metadata": {},
   "outputs": [
    {
     "output_type": "execute_result",
     "data": {
      "text/plain": "       first     last age physical_strength mental_acuity height person_type  \\\n0      Clark     Kent  37                90            75    193       Super   \n1      Diana   Prince  35                88            80    178       Super   \n2      Bruce    Wayne  46                70            85    183       Super   \n3  Endeavour    Morse  40                20            95    177       Human   \n4       Tony  Soprano  61                45            60    186       Human   \n5       Saul  Goodman  57                35            90    175       Human   \n\n  alive  \n0   Yes  \n1   Yes  \n2   Yes  \n3    No  \n4    No  \n5   Yes  ",
      "text/html": "<div>\n<style scoped>\n    .dataframe tbody tr th:only-of-type {\n        vertical-align: middle;\n    }\n\n    .dataframe tbody tr th {\n        vertical-align: top;\n    }\n\n    .dataframe thead th {\n        text-align: right;\n    }\n</style>\n<table border=\"1\" class=\"dataframe\">\n  <thead>\n    <tr style=\"text-align: right;\">\n      <th></th>\n      <th>first</th>\n      <th>last</th>\n      <th>age</th>\n      <th>physical_strength</th>\n      <th>mental_acuity</th>\n      <th>height</th>\n      <th>person_type</th>\n      <th>alive</th>\n    </tr>\n  </thead>\n  <tbody>\n    <tr>\n      <th>0</th>\n      <td>Clark</td>\n      <td>Kent</td>\n      <td>37</td>\n      <td>90</td>\n      <td>75</td>\n      <td>193</td>\n      <td>Super</td>\n      <td>Yes</td>\n    </tr>\n    <tr>\n      <th>1</th>\n      <td>Diana</td>\n      <td>Prince</td>\n      <td>35</td>\n      <td>88</td>\n      <td>80</td>\n      <td>178</td>\n      <td>Super</td>\n      <td>Yes</td>\n    </tr>\n    <tr>\n      <th>2</th>\n      <td>Bruce</td>\n      <td>Wayne</td>\n      <td>46</td>\n      <td>70</td>\n      <td>85</td>\n      <td>183</td>\n      <td>Super</td>\n      <td>Yes</td>\n    </tr>\n    <tr>\n      <th>3</th>\n      <td>Endeavour</td>\n      <td>Morse</td>\n      <td>40</td>\n      <td>20</td>\n      <td>95</td>\n      <td>177</td>\n      <td>Human</td>\n      <td>No</td>\n    </tr>\n    <tr>\n      <th>4</th>\n      <td>Tony</td>\n      <td>Soprano</td>\n      <td>61</td>\n      <td>45</td>\n      <td>60</td>\n      <td>186</td>\n      <td>Human</td>\n      <td>No</td>\n    </tr>\n    <tr>\n      <th>5</th>\n      <td>Saul</td>\n      <td>Goodman</td>\n      <td>57</td>\n      <td>35</td>\n      <td>90</td>\n      <td>175</td>\n      <td>Human</td>\n      <td>Yes</td>\n    </tr>\n  </tbody>\n</table>\n</div>"
     },
     "metadata": {},
     "execution_count": 360
    }
   ],
   "source": [
    "df4"
   ]
  },
  {
   "cell_type": "code",
   "execution_count": 361,
   "metadata": {},
   "outputs": [
    {
     "output_type": "execute_result",
     "data": {
      "text/plain": "(6, 8)"
     },
     "metadata": {},
     "execution_count": 361
    }
   ],
   "source": [
    "# shape returns the number of rows and columns in a df\n",
    "\n",
    "df4.shape"
   ]
  },
  {
   "cell_type": "code",
   "execution_count": 362,
   "metadata": {
    "tags": []
   },
   "outputs": [
    {
     "output_type": "stream",
     "name": "stdout",
     "text": "<class 'pandas.core.frame.DataFrame'>\nRangeIndex: 6 entries, 0 to 5\nData columns (total 8 columns):\n #   Column             Non-Null Count  Dtype \n---  ------             --------------  ----- \n 0   first              6 non-null      object\n 1   last               6 non-null      object\n 2   age                6 non-null      object\n 3   physical_strength  6 non-null      object\n 4   mental_acuity      6 non-null      object\n 5   height             6 non-null      object\n 6   person_type        6 non-null      object\n 7   alive              6 non-null      object\ndtypes: object(8)\nmemory usage: 512.0+ bytes\n"
    }
   ],
   "source": [
    "# info returns a list of all column labels and the data types\n",
    "\n",
    "df4.info()"
   ]
  },
  {
   "cell_type": "code",
   "execution_count": 363,
   "metadata": {},
   "outputs": [
    {
     "output_type": "execute_result",
     "data": {
      "text/plain": "       first     last age physical_strength mental_acuity height person_type  \\\n0      Clark     Kent  37                90            75    193       Super   \n1      Diana   Prince  35                88            80    178       Super   \n2      Bruce    Wayne  46                70            85    183       Super   \n3  Endeavour    Morse  40                20            95    177       Human   \n4       Tony  Soprano  61                45            60    186       Human   \n\n  alive  \n0   Yes  \n1   Yes  \n2   Yes  \n3    No  \n4    No  ",
      "text/html": "<div>\n<style scoped>\n    .dataframe tbody tr th:only-of-type {\n        vertical-align: middle;\n    }\n\n    .dataframe tbody tr th {\n        vertical-align: top;\n    }\n\n    .dataframe thead th {\n        text-align: right;\n    }\n</style>\n<table border=\"1\" class=\"dataframe\">\n  <thead>\n    <tr style=\"text-align: right;\">\n      <th></th>\n      <th>first</th>\n      <th>last</th>\n      <th>age</th>\n      <th>physical_strength</th>\n      <th>mental_acuity</th>\n      <th>height</th>\n      <th>person_type</th>\n      <th>alive</th>\n    </tr>\n  </thead>\n  <tbody>\n    <tr>\n      <th>0</th>\n      <td>Clark</td>\n      <td>Kent</td>\n      <td>37</td>\n      <td>90</td>\n      <td>75</td>\n      <td>193</td>\n      <td>Super</td>\n      <td>Yes</td>\n    </tr>\n    <tr>\n      <th>1</th>\n      <td>Diana</td>\n      <td>Prince</td>\n      <td>35</td>\n      <td>88</td>\n      <td>80</td>\n      <td>178</td>\n      <td>Super</td>\n      <td>Yes</td>\n    </tr>\n    <tr>\n      <th>2</th>\n      <td>Bruce</td>\n      <td>Wayne</td>\n      <td>46</td>\n      <td>70</td>\n      <td>85</td>\n      <td>183</td>\n      <td>Super</td>\n      <td>Yes</td>\n    </tr>\n    <tr>\n      <th>3</th>\n      <td>Endeavour</td>\n      <td>Morse</td>\n      <td>40</td>\n      <td>20</td>\n      <td>95</td>\n      <td>177</td>\n      <td>Human</td>\n      <td>No</td>\n    </tr>\n    <tr>\n      <th>4</th>\n      <td>Tony</td>\n      <td>Soprano</td>\n      <td>61</td>\n      <td>45</td>\n      <td>60</td>\n      <td>186</td>\n      <td>Human</td>\n      <td>No</td>\n    </tr>\n  </tbody>\n</table>\n</div>"
     },
     "metadata": {},
     "execution_count": 363
    }
   ],
   "source": [
    "# head and tail return the first 5 and last 5 rows\n",
    "# you can also pass an argument (e.g. df.head(50)) to return a specific number\n",
    "\n",
    "df4.head()"
   ]
  },
  {
   "cell_type": "code",
   "execution_count": 364,
   "metadata": {},
   "outputs": [
    {
     "output_type": "execute_result",
     "data": {
      "text/plain": "Index(['first', 'last', 'age', 'physical_strength', 'mental_acuity', 'height',\n       'person_type', 'alive'],\n      dtype='object')"
     },
     "metadata": {},
     "execution_count": 364
    }
   ],
   "source": [
    "# to get a list of all the columns in the dataframe\n",
    "\n",
    "df4.columns"
   ]
  },
  {
   "cell_type": "code",
   "execution_count": 366,
   "metadata": {},
   "outputs": [],
   "source": [
    "# Before we calculate any aggregate values, let's first ensure that the datatype of the numerical values are float\n",
    "\n",
    "df4[['age','physical_strength', 'mental_acuity', 'height']] = df4[['age','physical_strength', 'mental_acuity', 'height']].astype(float)"
   ]
  },
  {
   "cell_type": "code",
   "execution_count": 367,
   "metadata": {},
   "outputs": [
    {
     "output_type": "execute_result",
     "data": {
      "text/plain": "             age  physical_strength  mental_acuity      height\ncount   6.000000           6.000000       6.000000    6.000000\nmean   46.000000          58.000000      80.833333  182.000000\nstd    10.807405          29.017236      12.416387    6.752777\nmin    35.000000          20.000000      60.000000  175.000000\n25%    37.750000          37.500000      76.250000  177.250000\n50%    43.000000          57.500000      82.500000  180.500000\n75%    54.250000          83.500000      88.750000  185.250000\nmax    61.000000          90.000000      95.000000  193.000000",
      "text/html": "<div>\n<style scoped>\n    .dataframe tbody tr th:only-of-type {\n        vertical-align: middle;\n    }\n\n    .dataframe tbody tr th {\n        vertical-align: top;\n    }\n\n    .dataframe thead th {\n        text-align: right;\n    }\n</style>\n<table border=\"1\" class=\"dataframe\">\n  <thead>\n    <tr style=\"text-align: right;\">\n      <th></th>\n      <th>age</th>\n      <th>physical_strength</th>\n      <th>mental_acuity</th>\n      <th>height</th>\n    </tr>\n  </thead>\n  <tbody>\n    <tr>\n      <th>count</th>\n      <td>6.000000</td>\n      <td>6.000000</td>\n      <td>6.000000</td>\n      <td>6.000000</td>\n    </tr>\n    <tr>\n      <th>mean</th>\n      <td>46.000000</td>\n      <td>58.000000</td>\n      <td>80.833333</td>\n      <td>182.000000</td>\n    </tr>\n    <tr>\n      <th>std</th>\n      <td>10.807405</td>\n      <td>29.017236</td>\n      <td>12.416387</td>\n      <td>6.752777</td>\n    </tr>\n    <tr>\n      <th>min</th>\n      <td>35.000000</td>\n      <td>20.000000</td>\n      <td>60.000000</td>\n      <td>175.000000</td>\n    </tr>\n    <tr>\n      <th>25%</th>\n      <td>37.750000</td>\n      <td>37.500000</td>\n      <td>76.250000</td>\n      <td>177.250000</td>\n    </tr>\n    <tr>\n      <th>50%</th>\n      <td>43.000000</td>\n      <td>57.500000</td>\n      <td>82.500000</td>\n      <td>180.500000</td>\n    </tr>\n    <tr>\n      <th>75%</th>\n      <td>54.250000</td>\n      <td>83.500000</td>\n      <td>88.750000</td>\n      <td>185.250000</td>\n    </tr>\n    <tr>\n      <th>max</th>\n      <td>61.000000</td>\n      <td>90.000000</td>\n      <td>95.000000</td>\n      <td>193.000000</td>\n    </tr>\n  </tbody>\n</table>\n</div>"
     },
     "metadata": {},
     "execution_count": 367
    }
   ],
   "source": [
    "# Now we can use describe to get a sense of the data\n",
    "\n",
    "df4.describe()"
   ]
  },
  {
   "cell_type": "code",
   "execution_count": 368,
   "metadata": {},
   "outputs": [
    {
     "output_type": "execute_result",
     "data": {
      "text/plain": "43.0"
     },
     "metadata": {},
     "execution_count": 368
    }
   ],
   "source": [
    "# You can also calculate the mean, median, etc. of specific columns\n",
    "\n",
    "df4['age'].median()"
   ]
  },
  {
   "cell_type": "code",
   "execution_count": 369,
   "metadata": {},
   "outputs": [
    {
     "output_type": "execute_result",
     "data": {
      "text/plain": "182.0"
     },
     "metadata": {},
     "execution_count": 369
    }
   ],
   "source": [
    "df4['height'].mean()"
   ]
  },
  {
   "cell_type": "code",
   "execution_count": 370,
   "metadata": {},
   "outputs": [
    {
     "output_type": "execute_result",
     "data": {
      "text/plain": "       first     last   age  physical_strength  mental_acuity  height  \\\n5       Saul  Goodman  57.0               35.0           90.0   175.0   \n3  Endeavour    Morse  40.0               20.0           95.0   177.0   \n1      Diana   Prince  35.0               88.0           80.0   178.0   \n2      Bruce    Wayne  46.0               70.0           85.0   183.0   \n4       Tony  Soprano  61.0               45.0           60.0   186.0   \n0      Clark     Kent  37.0               90.0           75.0   193.0   \n\n  person_type alive  \n5       Human   Yes  \n3       Human    No  \n1       Super   Yes  \n2       Super   Yes  \n4       Human    No  \n0       Super   Yes  ",
      "text/html": "<div>\n<style scoped>\n    .dataframe tbody tr th:only-of-type {\n        vertical-align: middle;\n    }\n\n    .dataframe tbody tr th {\n        vertical-align: top;\n    }\n\n    .dataframe thead th {\n        text-align: right;\n    }\n</style>\n<table border=\"1\" class=\"dataframe\">\n  <thead>\n    <tr style=\"text-align: right;\">\n      <th></th>\n      <th>first</th>\n      <th>last</th>\n      <th>age</th>\n      <th>physical_strength</th>\n      <th>mental_acuity</th>\n      <th>height</th>\n      <th>person_type</th>\n      <th>alive</th>\n    </tr>\n  </thead>\n  <tbody>\n    <tr>\n      <th>5</th>\n      <td>Saul</td>\n      <td>Goodman</td>\n      <td>57.0</td>\n      <td>35.0</td>\n      <td>90.0</td>\n      <td>175.0</td>\n      <td>Human</td>\n      <td>Yes</td>\n    </tr>\n    <tr>\n      <th>3</th>\n      <td>Endeavour</td>\n      <td>Morse</td>\n      <td>40.0</td>\n      <td>20.0</td>\n      <td>95.0</td>\n      <td>177.0</td>\n      <td>Human</td>\n      <td>No</td>\n    </tr>\n    <tr>\n      <th>1</th>\n      <td>Diana</td>\n      <td>Prince</td>\n      <td>35.0</td>\n      <td>88.0</td>\n      <td>80.0</td>\n      <td>178.0</td>\n      <td>Super</td>\n      <td>Yes</td>\n    </tr>\n    <tr>\n      <th>2</th>\n      <td>Bruce</td>\n      <td>Wayne</td>\n      <td>46.0</td>\n      <td>70.0</td>\n      <td>85.0</td>\n      <td>183.0</td>\n      <td>Super</td>\n      <td>Yes</td>\n    </tr>\n    <tr>\n      <th>4</th>\n      <td>Tony</td>\n      <td>Soprano</td>\n      <td>61.0</td>\n      <td>45.0</td>\n      <td>60.0</td>\n      <td>186.0</td>\n      <td>Human</td>\n      <td>No</td>\n    </tr>\n    <tr>\n      <th>0</th>\n      <td>Clark</td>\n      <td>Kent</td>\n      <td>37.0</td>\n      <td>90.0</td>\n      <td>75.0</td>\n      <td>193.0</td>\n      <td>Super</td>\n      <td>Yes</td>\n    </tr>\n  </tbody>\n</table>\n</div>"
     },
     "metadata": {},
     "execution_count": 370
    }
   ],
   "source": [
    "# You can also sort by a specific column\n",
    "\n",
    "df4.sort_values(by = 'height')"
   ]
  },
  {
   "cell_type": "code",
   "execution_count": 371,
   "metadata": {},
   "outputs": [
    {
     "output_type": "execute_result",
     "data": {
      "text/plain": "Human    3\nSuper    3\nName: person_type, dtype: int64"
     },
     "metadata": {},
     "execution_count": 371
    }
   ],
   "source": [
    "# value_count gives you the frequency distribution of values for a specific column\n",
    "\n",
    "df4['person_type'].value_counts()"
   ]
  },
  {
   "cell_type": "code",
   "execution_count": 372,
   "metadata": {},
   "outputs": [
    {
     "output_type": "execute_result",
     "data": {
      "text/plain": "Yes    4\nNo     2\nName: alive, dtype: int64"
     },
     "metadata": {},
     "execution_count": 372
    }
   ],
   "source": [
    "# similarly, for another label/ column\n",
    "\n",
    "df4['alive'].value_counts()"
   ]
  },
  {
   "cell_type": "code",
   "execution_count": 373,
   "metadata": {},
   "outputs": [],
   "source": [
    "# Now suppose you want to do the same analysis a level deeper, i.e. get the count of personalities alive, but within superheroes and humans\n",
    "# In order to calculate such aggregate values, you will first need to group the entries by the desired label, in this case 'person_type'\n",
    "\n",
    "person_group = df4.groupby(['person_type'])\n",
    "\n",
    "# this basically creates a division between the entries as per the different entries in 'person_type'. i.e. between 'supers' and 'humans'; now we can use various functions on these groups."
   ]
  },
  {
   "cell_type": "code",
   "execution_count": 376,
   "metadata": {},
   "outputs": [
    {
     "output_type": "execute_result",
     "data": {
      "text/plain": "person_type  alive\nHuman        No       2\n             Yes      1\nSuper        Yes      3\nName: alive, dtype: int64"
     },
     "metadata": {},
     "execution_count": 376
    }
   ],
   "source": [
    "# Let's look at the folks alive by the type of person\n",
    "\n",
    "person_group['alive'].value_counts()"
   ]
  },
  {
   "cell_type": "code",
   "execution_count": null,
   "metadata": {},
   "outputs": [],
   "source": [
    "# Above tells you that of the 3 humans, 2 are dead. For superheroes, all are alive"
   ]
  },
  {
   "cell_type": "code",
   "execution_count": 375,
   "metadata": {},
   "outputs": [
    {
     "output_type": "execute_result",
     "data": {
      "text/plain": "person_type\nHuman    177.0\nSuper    183.0\nName: height, dtype: float64"
     },
     "metadata": {},
     "execution_count": 375
    }
   ],
   "source": [
    "person_group['height'].median()"
   ]
  },
  {
   "cell_type": "code",
   "execution_count": 377,
   "metadata": {},
   "outputs": [
    {
     "output_type": "execute_result",
     "data": {
      "text/plain": "177.0"
     },
     "metadata": {},
     "execution_count": 377
    }
   ],
   "source": [
    "# Above tells you that on the average, a human is shorter than a superhero by around 6 cms. :(\n",
    "# You can also access the median of a specific group by calling referring to it by bracket notation\n",
    "\n",
    "person_group['height'].median().loc['Human']"
   ]
  },
  {
   "cell_type": "code",
   "execution_count": null,
   "metadata": {},
   "outputs": [],
   "source": []
  }
 ]
}